{
 "cells": [
  {
   "cell_type": "markdown",
   "metadata": {
    "heading_collapsed": true
   },
   "source": [
    "# MARS\n",
    "\n",
    "Mobile App Research Survey"
   ]
  },
  {
   "cell_type": "markdown",
   "metadata": {
    "heading_collapsed": true
   },
   "source": [
    "# Imports and Load Data"
   ]
  },
  {
   "cell_type": "markdown",
   "metadata": {
    "heading_collapsed": true,
    "hidden": true
   },
   "source": [
    "## Imports"
   ]
  },
  {
   "cell_type": "code",
   "execution_count": 1,
   "metadata": {
    "ExecuteTime": {
     "end_time": "2019-03-28T17:24:48.846851Z",
     "start_time": "2019-03-28T17:24:48.791866Z"
    },
    "hidden": true,
    "init_cell": true
   },
   "outputs": [],
   "source": [
    "import pandas as pd\n",
    "import seaborn as sns\n",
    "import matplotlib.pyplot as plt\n",
    "#import re\n",
    "import numpy as np\n",
    "#from itertools import compress\n",
    "import chart_studio\n",
    "chart_studio.tools.set_credentials_file(username='jmaton2019', api_key='caM46K9dWQDVD0QPTIYP')\n",
    "%matplotlib inline"
   ]
  },
  {
   "cell_type": "code",
   "execution_count": 2,
   "metadata": {
    "ExecuteTime": {
     "end_time": "2019-03-28T17:24:48.851126Z",
     "start_time": "2019-03-28T17:24:48.848464Z"
    },
    "hidden": true,
    "init_cell": true
   },
   "outputs": [],
   "source": [
    "from sklearn.preprocessing import StandardScaler\n",
    "from sklearn.decomposition import PCA\n",
    "from sklearn.cluster import KMeans\n",
    "from scipy.cluster.hierarchy import dendrogram, linkage"
   ]
  },
  {
   "cell_type": "markdown",
   "metadata": {
    "hidden": true
   },
   "source": [
    "## Load Data"
   ]
  },
  {
   "cell_type": "code",
   "execution_count": 3,
   "metadata": {
    "ExecuteTime": {
     "end_time": "2019-03-28T17:24:49.107851Z",
     "start_time": "2019-03-28T17:24:49.005358Z"
    },
    "hidden": true,
    "init_cell": true
   },
   "outputs": [
    {
     "data": {
      "text/html": [
       "<div>\n",
       "<style scoped>\n",
       "    .dataframe tbody tr th:only-of-type {\n",
       "        vertical-align: middle;\n",
       "    }\n",
       "\n",
       "    .dataframe tbody tr th {\n",
       "        vertical-align: top;\n",
       "    }\n",
       "\n",
       "    .dataframe thead th {\n",
       "        text-align: right;\n",
       "    }\n",
       "</style>\n",
       "<table border=\"1\" class=\"dataframe\">\n",
       "  <thead>\n",
       "    <tr style=\"text-align: right;\">\n",
       "      <th></th>\n",
       "      <th>caseID</th>\n",
       "      <th>q1</th>\n",
       "      <th>q2r1</th>\n",
       "      <th>q2r2</th>\n",
       "      <th>q2r3</th>\n",
       "      <th>q2r4</th>\n",
       "      <th>q2r5</th>\n",
       "      <th>q2r6</th>\n",
       "      <th>q2r7</th>\n",
       "      <th>q2r8</th>\n",
       "      <th>...</th>\n",
       "      <th>q49</th>\n",
       "      <th>q50r1</th>\n",
       "      <th>q50r2</th>\n",
       "      <th>q50r3</th>\n",
       "      <th>q50r4</th>\n",
       "      <th>q50r5</th>\n",
       "      <th>q54</th>\n",
       "      <th>q55</th>\n",
       "      <th>q56</th>\n",
       "      <th>q57</th>\n",
       "    </tr>\n",
       "  </thead>\n",
       "  <tbody>\n",
       "    <tr>\n",
       "      <th>0</th>\n",
       "      <td>355</td>\n",
       "      <td>5</td>\n",
       "      <td>0</td>\n",
       "      <td>1</td>\n",
       "      <td>1</td>\n",
       "      <td>0</td>\n",
       "      <td>0</td>\n",
       "      <td>0</td>\n",
       "      <td>0</td>\n",
       "      <td>0</td>\n",
       "      <td>...</td>\n",
       "      <td>1</td>\n",
       "      <td>0</td>\n",
       "      <td>0</td>\n",
       "      <td>0</td>\n",
       "      <td>1</td>\n",
       "      <td>0</td>\n",
       "      <td>1</td>\n",
       "      <td>2</td>\n",
       "      <td>11</td>\n",
       "      <td>1</td>\n",
       "    </tr>\n",
       "    <tr>\n",
       "      <th>1</th>\n",
       "      <td>1397</td>\n",
       "      <td>3</td>\n",
       "      <td>0</td>\n",
       "      <td>0</td>\n",
       "      <td>1</td>\n",
       "      <td>0</td>\n",
       "      <td>0</td>\n",
       "      <td>0</td>\n",
       "      <td>0</td>\n",
       "      <td>0</td>\n",
       "      <td>...</td>\n",
       "      <td>2</td>\n",
       "      <td>1</td>\n",
       "      <td>0</td>\n",
       "      <td>0</td>\n",
       "      <td>0</td>\n",
       "      <td>0</td>\n",
       "      <td>2</td>\n",
       "      <td>2</td>\n",
       "      <td>9</td>\n",
       "      <td>2</td>\n",
       "    </tr>\n",
       "    <tr>\n",
       "      <th>2</th>\n",
       "      <td>1197</td>\n",
       "      <td>2</td>\n",
       "      <td>0</td>\n",
       "      <td>1</td>\n",
       "      <td>1</td>\n",
       "      <td>0</td>\n",
       "      <td>0</td>\n",
       "      <td>0</td>\n",
       "      <td>0</td>\n",
       "      <td>0</td>\n",
       "      <td>...</td>\n",
       "      <td>2</td>\n",
       "      <td>1</td>\n",
       "      <td>0</td>\n",
       "      <td>0</td>\n",
       "      <td>0</td>\n",
       "      <td>0</td>\n",
       "      <td>1</td>\n",
       "      <td>2</td>\n",
       "      <td>8</td>\n",
       "      <td>2</td>\n",
       "    </tr>\n",
       "    <tr>\n",
       "      <th>3</th>\n",
       "      <td>484</td>\n",
       "      <td>2</td>\n",
       "      <td>0</td>\n",
       "      <td>0</td>\n",
       "      <td>0</td>\n",
       "      <td>0</td>\n",
       "      <td>1</td>\n",
       "      <td>0</td>\n",
       "      <td>0</td>\n",
       "      <td>0</td>\n",
       "      <td>...</td>\n",
       "      <td>2</td>\n",
       "      <td>1</td>\n",
       "      <td>0</td>\n",
       "      <td>0</td>\n",
       "      <td>0</td>\n",
       "      <td>0</td>\n",
       "      <td>2</td>\n",
       "      <td>2</td>\n",
       "      <td>1</td>\n",
       "      <td>1</td>\n",
       "    </tr>\n",
       "    <tr>\n",
       "      <th>4</th>\n",
       "      <td>2113</td>\n",
       "      <td>4</td>\n",
       "      <td>0</td>\n",
       "      <td>0</td>\n",
       "      <td>0</td>\n",
       "      <td>1</td>\n",
       "      <td>0</td>\n",
       "      <td>0</td>\n",
       "      <td>0</td>\n",
       "      <td>0</td>\n",
       "      <td>...</td>\n",
       "      <td>1</td>\n",
       "      <td>0</td>\n",
       "      <td>1</td>\n",
       "      <td>0</td>\n",
       "      <td>0</td>\n",
       "      <td>0</td>\n",
       "      <td>1</td>\n",
       "      <td>2</td>\n",
       "      <td>11</td>\n",
       "      <td>2</td>\n",
       "    </tr>\n",
       "    <tr>\n",
       "      <th>...</th>\n",
       "      <td>...</td>\n",
       "      <td>...</td>\n",
       "      <td>...</td>\n",
       "      <td>...</td>\n",
       "      <td>...</td>\n",
       "      <td>...</td>\n",
       "      <td>...</td>\n",
       "      <td>...</td>\n",
       "      <td>...</td>\n",
       "      <td>...</td>\n",
       "      <td>...</td>\n",
       "      <td>...</td>\n",
       "      <td>...</td>\n",
       "      <td>...</td>\n",
       "      <td>...</td>\n",
       "      <td>...</td>\n",
       "      <td>...</td>\n",
       "      <td>...</td>\n",
       "      <td>...</td>\n",
       "      <td>...</td>\n",
       "      <td>...</td>\n",
       "    </tr>\n",
       "    <tr>\n",
       "      <th>95</th>\n",
       "      <td>676</td>\n",
       "      <td>7</td>\n",
       "      <td>0</td>\n",
       "      <td>0</td>\n",
       "      <td>0</td>\n",
       "      <td>1</td>\n",
       "      <td>0</td>\n",
       "      <td>0</td>\n",
       "      <td>0</td>\n",
       "      <td>0</td>\n",
       "      <td>...</td>\n",
       "      <td>1</td>\n",
       "      <td>0</td>\n",
       "      <td>0</td>\n",
       "      <td>0</td>\n",
       "      <td>1</td>\n",
       "      <td>1</td>\n",
       "      <td>1</td>\n",
       "      <td>2</td>\n",
       "      <td>5</td>\n",
       "      <td>2</td>\n",
       "    </tr>\n",
       "    <tr>\n",
       "      <th>96</th>\n",
       "      <td>829</td>\n",
       "      <td>3</td>\n",
       "      <td>1</td>\n",
       "      <td>1</td>\n",
       "      <td>0</td>\n",
       "      <td>0</td>\n",
       "      <td>0</td>\n",
       "      <td>0</td>\n",
       "      <td>0</td>\n",
       "      <td>0</td>\n",
       "      <td>...</td>\n",
       "      <td>1</td>\n",
       "      <td>1</td>\n",
       "      <td>0</td>\n",
       "      <td>0</td>\n",
       "      <td>0</td>\n",
       "      <td>0</td>\n",
       "      <td>1</td>\n",
       "      <td>2</td>\n",
       "      <td>6</td>\n",
       "      <td>2</td>\n",
       "    </tr>\n",
       "    <tr>\n",
       "      <th>97</th>\n",
       "      <td>1887</td>\n",
       "      <td>3</td>\n",
       "      <td>1</td>\n",
       "      <td>0</td>\n",
       "      <td>0</td>\n",
       "      <td>0</td>\n",
       "      <td>0</td>\n",
       "      <td>0</td>\n",
       "      <td>1</td>\n",
       "      <td>0</td>\n",
       "      <td>...</td>\n",
       "      <td>1</td>\n",
       "      <td>1</td>\n",
       "      <td>0</td>\n",
       "      <td>0</td>\n",
       "      <td>0</td>\n",
       "      <td>0</td>\n",
       "      <td>1</td>\n",
       "      <td>2</td>\n",
       "      <td>5</td>\n",
       "      <td>1</td>\n",
       "    </tr>\n",
       "    <tr>\n",
       "      <th>98</th>\n",
       "      <td>313</td>\n",
       "      <td>2</td>\n",
       "      <td>0</td>\n",
       "      <td>1</td>\n",
       "      <td>1</td>\n",
       "      <td>0</td>\n",
       "      <td>0</td>\n",
       "      <td>0</td>\n",
       "      <td>0</td>\n",
       "      <td>0</td>\n",
       "      <td>...</td>\n",
       "      <td>2</td>\n",
       "      <td>1</td>\n",
       "      <td>0</td>\n",
       "      <td>0</td>\n",
       "      <td>0</td>\n",
       "      <td>0</td>\n",
       "      <td>1</td>\n",
       "      <td>2</td>\n",
       "      <td>10</td>\n",
       "      <td>1</td>\n",
       "    </tr>\n",
       "    <tr>\n",
       "      <th>99</th>\n",
       "      <td>317</td>\n",
       "      <td>2</td>\n",
       "      <td>1</td>\n",
       "      <td>1</td>\n",
       "      <td>1</td>\n",
       "      <td>1</td>\n",
       "      <td>1</td>\n",
       "      <td>1</td>\n",
       "      <td>0</td>\n",
       "      <td>1</td>\n",
       "      <td>...</td>\n",
       "      <td>1</td>\n",
       "      <td>1</td>\n",
       "      <td>0</td>\n",
       "      <td>0</td>\n",
       "      <td>0</td>\n",
       "      <td>0</td>\n",
       "      <td>3</td>\n",
       "      <td>2</td>\n",
       "      <td>4</td>\n",
       "      <td>1</td>\n",
       "    </tr>\n",
       "  </tbody>\n",
       "</table>\n",
       "<p>100 rows × 88 columns</p>\n",
       "</div>"
      ],
      "text/plain": [
       "    caseID  q1  q2r1  q2r2  q2r3  q2r4  q2r5  q2r6  q2r7  q2r8  ...  q49  \\\n",
       "0      355   5     0     1     1     0     0     0     0     0  ...    1   \n",
       "1     1397   3     0     0     1     0     0     0     0     0  ...    2   \n",
       "2     1197   2     0     1     1     0     0     0     0     0  ...    2   \n",
       "3      484   2     0     0     0     0     1     0     0     0  ...    2   \n",
       "4     2113   4     0     0     0     1     0     0     0     0  ...    1   \n",
       "..     ...  ..   ...   ...   ...   ...   ...   ...   ...   ...  ...  ...   \n",
       "95     676   7     0     0     0     1     0     0     0     0  ...    1   \n",
       "96     829   3     1     1     0     0     0     0     0     0  ...    1   \n",
       "97    1887   3     1     0     0     0     0     0     1     0  ...    1   \n",
       "98     313   2     0     1     1     0     0     0     0     0  ...    2   \n",
       "99     317   2     1     1     1     1     1     1     0     1  ...    1   \n",
       "\n",
       "    q50r1  q50r2  q50r3  q50r4  q50r5  q54  q55  q56  q57  \n",
       "0       0      0      0      1      0    1    2   11    1  \n",
       "1       1      0      0      0      0    2    2    9    2  \n",
       "2       1      0      0      0      0    1    2    8    2  \n",
       "3       1      0      0      0      0    2    2    1    1  \n",
       "4       0      1      0      0      0    1    2   11    2  \n",
       "..    ...    ...    ...    ...    ...  ...  ...  ...  ...  \n",
       "95      0      0      0      1      1    1    2    5    2  \n",
       "96      1      0      0      0      0    1    2    6    2  \n",
       "97      1      0      0      0      0    1    2    5    1  \n",
       "98      1      0      0      0      0    1    2   10    1  \n",
       "99      1      0      0      0      0    3    2    4    1  \n",
       "\n",
       "[100 rows x 88 columns]"
      ]
     },
     "execution_count": 3,
     "metadata": {},
     "output_type": "execute_result"
    }
   ],
   "source": [
    "data_file = \"finalExam_preparation_data.xlsx\"\n",
    "data = pd.read_excel(data_file)\n",
    "data"
   ]
  },
  {
   "cell_type": "markdown",
   "metadata": {},
   "source": [
    "# Survey Questions"
   ]
  },
  {
   "cell_type": "markdown",
   "metadata": {},
   "source": [
    "The following function is a general function used for many of the plots"
   ]
  },
  {
   "cell_type": "code",
   "execution_count": 4,
   "metadata": {
    "ExecuteTime": {
     "end_time": "2019-03-28T17:24:49.478128Z",
     "start_time": "2019-03-28T17:24:49.471961Z"
    },
    "code_folding": [],
    "init_cell": true
   },
   "outputs": [],
   "source": [
    "def plotCounts (data, Q_df, c, labels):\n",
    "    # creates the count plots\n",
    "    # data is the dataframe holding the survey data\n",
    "    # Q_df is the header info dataframe\n",
    "    # c is the index in the Q_df dataframe\n",
    "    # labels is the list of value labels used\n",
    "    \n",
    "    # ensure only the used labels remain\n",
    "    ind = list(data[Q_df['CellCode'][c]].value_counts().index -1)\n",
    "    ind.sort()\n",
    "    labels = [labels[i] for i in ind]\n",
    "    \n",
    "    # now plot\n",
    "    fig, ax = plt.subplots(figsize = (15, 6))\n",
    "    fig.canvas.draw()\n",
    "    sns.countplot(x = Q_df['CellCode'][c],\n",
    "                  data = data);\n",
    "    ax.set_xticklabels(labels,\n",
    "                  rotation = 90)\n",
    "    plt.title('Frequency of visit - ' + Q_df['Short'][c])\n",
    "    plt.xlabel(Q_df['Statement'][c])\n",
    "    plt.savefig('Frequency of visit - ' + Q_df['Short'][c] + '.png')\n",
    "    plt.show()"
   ]
  },
  {
   "cell_type": "markdown",
   "metadata": {
    "heading_collapsed": true
   },
   "source": [
    "## Q1 - Age\n",
    "\n",
    "Which of the following best describes your age?"
   ]
  },
  {
   "cell_type": "markdown",
   "metadata": {
    "hidden": true
   },
   "source": [
    "| Answer | Value |\n",
    "|---|---|\n",
    "| Under 18   | 1 | \n",
    "| 18-24      | 2 |\n",
    "| 25-29      | 3 |\n",
    "| 30-34      | 4 |\n",
    "| 35-39      | 5 |\n",
    "| 40-44      | 6 |\n",
    "| 45-49      | 7 |\n",
    "| 50-54      | 8 |\n",
    "| 55-59      | 9 |\n",
    "| 60-64      | 10 |\n",
    "| 65 or over | 12 |\n",
    "\n",
    "**The last category (65 or over) is likely to be of value 11 insted of 12**\n",
    "\n",
    "non-behavioral"
   ]
  },
  {
   "cell_type": "code",
   "execution_count": 5,
   "metadata": {
    "ExecuteTime": {
     "end_time": "2019-03-28T17:24:49.831234Z",
     "start_time": "2019-03-28T17:24:49.825366Z"
    },
    "hidden": true,
    "init_cell": true
   },
   "outputs": [],
   "source": [
    "data.rename(columns = {'q1': 'q1_Age'},\n",
    "            inplace = True)\n",
    "labels_q1 = ['<18',\n",
    "             '18-24',\n",
    "             '25-29',\n",
    "             '30-34',\n",
    "             '35-39',\n",
    "             '40-44',\n",
    "             '45-49',\n",
    "             '50-54',\n",
    "             '55-59',\n",
    "             '60-64',\n",
    "             '>65']\n",
    "# ensure only the used labels remain\n",
    "ind = list(data['q1_Age'].value_counts().index -1)\n",
    "ind.sort()\n",
    "labels_q1 = [labels_q1[i] for i in ind]"
   ]
  },
  {
   "cell_type": "code",
   "execution_count": 6,
   "metadata": {
    "ExecuteTime": {
     "end_time": "2019-03-28T17:24:50.105962Z",
     "start_time": "2019-03-28T17:24:49.833135Z"
    },
    "code_folding": [],
    "hidden": true
   },
   "outputs": [
    {
     "data": {
      "image/png": "[encoded data removed]",
      "text/plain": [
       "<Figure size 1080x432 with 1 Axes>"
      ]
     },
     "metadata": {
      "needs_background": "light"
     },
     "output_type": "display_data"
    }
   ],
   "source": [
    "fig, ax = plt.subplots(figsize = (15, 6))\n",
    "sns.countplot(x = 'q1_Age',\n",
    "              data = data);\n",
    "ax.set_xticklabels(labels_q1,\n",
    "                   rotation = 45)\n",
    "plt.title('Age group Counts')\n",
    "plt.xlabel(\"Age Group\")\n",
    "plt.savefig('Age group Counts.png')\n",
    "plt.show()"
   ]
  },
  {
   "cell_type": "markdown",
   "metadata": {
    "hidden": true
   },
   "source": [
    "**Take the age distribution into account**"
   ]
  },
  {
   "cell_type": "markdown",
   "metadata": {
    "heading_collapsed": true
   },
   "source": [
    "## Q2 - Device Ownership\n",
    "\n",
    "Do you own any of the following smartphones or other web-enabled devices?"
   ]
  },
  {
   "cell_type": "markdown",
   "metadata": {
    "hidden": true
   },
   "source": [
    "The answers are encoded as follows:\n",
    "\n",
    "| Answer Column | Device |\n",
    "|---|---|\n",
    "| q2r1 | iPhone |\n",
    "| q2r2 | iPod touch |\n",
    "| q2r3 | Android |\n",
    "| q2r4 | BlackBerry |\n",
    "| q2r5 | Nokia |\n",
    "| q2r6 | Windows Phone or Windows Mobile |\n",
    "| q2r7 | HP/ Palm WebOS |\n",
    "| q2r8 | Tablet (iPad, Xoom, Galaxy Tab etc.) |\n",
    "| q2r9 | Other smartphone (please specify) |\n",
    "| q2r10 | None |\n",
    "\n",
    "For other there is no free text encoded."
   ]
  },
  {
   "cell_type": "code",
   "execution_count": 7,
   "metadata": {
    "ExecuteTime": {
     "end_time": "2019-03-28T17:24:50.506195Z",
     "start_time": "2019-03-28T17:24:50.501170Z"
    },
    "hidden": true,
    "init_cell": true
   },
   "outputs": [],
   "source": [
    "data.rename(columns = {'q2r1' : 'q2r1_Device_iPhone',\n",
    "                       'q2r2' : 'q2r2_Device_iPod',\n",
    "                       'q2r3' : 'q2r3_Device_Android',\n",
    "                       'q2r4' : 'q2r4_Device_BlackBerry',\n",
    "                       'q2r5' : 'q2r5_Device_Nokia',\n",
    "                       'q2r6' : 'q2r6_Device_Windows',\n",
    "                       'q2r7' : 'q2r7_Device_HP',\n",
    "                       'q2r8' : 'q2r8_Device_Tablet',\n",
    "                       'q2r9' : 'q2r9_Device_OtherSmartphone',\n",
    "                       'q2r10': 'q2r10_Device_None'},\n",
    "            inplace = True)"
   ]
  },
  {
   "cell_type": "code",
   "execution_count": 8,
   "metadata": {
    "ExecuteTime": {
     "end_time": "2019-03-28T17:24:50.517670Z",
     "start_time": "2019-03-28T17:24:50.511464Z"
    },
    "code_folding": [],
    "hidden": true
   },
   "outputs": [],
   "source": [
    "Q2_counts = {'iPhone'                          : sum(data['q2r1_Device_iPhone']),\n",
    "             'iPod touch'                      : sum(data['q2r2_Device_iPod']),\n",
    "             'Android'                         : sum(data['q2r3_Device_Android']),\n",
    "             'BlackBerry'                      : sum(data['q2r4_Device_BlackBerry']),\n",
    "             'Nokia'                           : sum(data['q2r5_Device_Nokia']),\n",
    "             'Windows Phone or Windows Mobile' : sum(data['q2r6_Device_Windows']),\n",
    "             'HP Palm WebOS'                   : sum(data['q2r7_Device_HP']),\n",
    "             'Tablet'                          : sum(data['q2r8_Device_Tablet']),\n",
    "             'Other smartphone'                : sum(data['q2r9_Device_OtherSmartphone']),\n",
    "             'None'                            : sum(data['q2r10_Device_None'])}"
   ]
  },
  {
   "cell_type": "code",
   "execution_count": 9,
   "metadata": {
    "ExecuteTime": {
     "end_time": "2019-03-28T17:24:50.838755Z",
     "start_time": "2019-03-28T17:24:50.520387Z"
    },
    "hidden": true
   },
   "outputs": [
    {
     "data": {
      "image/png": "[encoded data removed]",
      "text/plain": [
       "<Figure size 1080x432 with 1 Axes>"
      ]
     },
     "metadata": {
      "needs_background": "light"
     },
     "output_type": "display_data"
    }
   ],
   "source": [
    "fig, ax = plt.subplots(figsize = (15, 6))\n",
    "sns.barplot(x = list(Q2_counts.keys()),\n",
    "            y = list(Q2_counts.values()));\n",
    "ax.set_xticklabels(ax.get_xticklabels(),\n",
    "                   rotation = 90)\n",
    "plt.xlabel(\"Device Types\")\n",
    "plt.title('Owned devices Counts')\n",
    "plt.ylabel('Number of people owning device')\n",
    "plt.savefig('Owned devices Counts.png')\n",
    "plt.show()"
   ]
  },
  {
   "cell_type": "markdown",
   "metadata": {
    "heading_collapsed": true
   },
   "source": [
    "## Q4 - App Usage\n",
    "\n",
    "Do you use any of the following kinds of Apps?\n",
    "(Select all that apply)"
   ]
  },
  {
   "cell_type": "markdown",
   "metadata": {
    "hidden": true
   },
   "source": [
    "| Answer Column | App Type |\n",
    "|---|---|\n",
    "| q4r1  | Music and Sound Identification Apps |\n",
    "| q4r2  | TV Check-in Apps |\n",
    "| q4r3  | Entertainment Apps (i.e. U2) |\n",
    "| q4r4  | TV Show Apps (i.e. Glee) |\n",
    "| q4r5  | Gaming Apps |\n",
    "| q4r6  | Social Networking Apps (i.e. Facebook) |\n",
    "| q4r7  | General News Apps (i.e. Yahoo! News) |\n",
    "| q4r8  | Shopping Apps |\n",
    "| q4r9  | Specific Publication News Apps (i.e. New York Times) |\n",
    "| q4r10 | Other |\n",
    "| q4r11 | None |\n",
    "\n"
   ]
  },
  {
   "cell_type": "code",
   "execution_count": null,
   "metadata": {
    "ExecuteTime": {
     "end_time": "2019-03-28T17:24:51.064382Z",
     "start_time": "2019-03-28T17:24:51.060116Z"
    },
    "hidden": true,
    "init_cell": true
   },
   "outputs": [],
   "source": [
    "data.rename(columns = {'q4r1' : 'q4r1_App_Music',\n",
    "                       'q4r2' : 'q4r2_App_TVCheck',\n",
    "                       'q4r3' : 'q4r3_App_Entertainment',\n",
    "                       'q4r4' : 'q4r4_App_TVShow',\n",
    "                       'q4r5' : 'q4r5_App_Gaming',\n",
    "                       'q4r6' : 'q4r6_App_SocialNetworking',\n",
    "                       'q4r7' : 'q4r7_App_News',\n",
    "                       'q4r8' : 'q4r8_App_Shopping',\n",
    "                       'q4r9' : 'q4r9_App_SpecificNews',\n",
    "                       'q4r10': 'q4r10_App_Other',\n",
    "                       'q4r11': 'q4r11_App_None'},\n",
    "            inplace = True)"
   ]
  },
  {
   "cell_type": "code",
   "execution_count": null,
   "metadata": {
    "ExecuteTime": {
     "end_time": "2019-03-28T17:24:51.076270Z",
     "start_time": "2019-03-28T17:24:51.067473Z"
    },
    "hidden": true
   },
   "outputs": [],
   "source": [
    "Q4_counts = {'Music and Sound Identification' : sum(data['q4r1_App_Music']),\n",
    "             'TV Check-in'                    : sum(data['q4r2_App_TVCheck']),\n",
    "             'Entertainment'                  : sum(data['q4r3_App_Entertainment']),\n",
    "             'TV Show'                        : sum(data['q4r4_App_TVShow']),\n",
    "             'Gaming'                         : sum(data['q4r5_App_Gaming']),\n",
    "             'Social Networking'              : sum(data['q4r6_App_SocialNetworking']),\n",
    "             'General News'                   : sum(data['q4r7_App_News']),\n",
    "             'Shopping'                       : sum(data['q4r8_App_Shopping']),\n",
    "             'Specific Publication News'      : sum(data['q4r9_App_SpecificNews']),\n",
    "             'Other'                          : sum(data['q4r10_App_Other']),\n",
    "             'None'                           : sum(data['q4r11_App_None'])}"
   ]
  },
  {
   "cell_type": "code",
   "execution_count": null,
   "metadata": {
    "ExecuteTime": {
     "end_time": "2019-03-28T17:24:51.420593Z",
     "start_time": "2019-03-28T17:24:51.078302Z"
    },
    "hidden": true
   },
   "outputs": [],
   "source": [
    "fig, ax = plt.subplots(figsize = (15, 6))\n",
    "sns.barplot(x = list(Q4_counts.keys()),\n",
    "            y = list(Q4_counts.values()));\n",
    "ax.set_xticklabels(ax.get_xticklabels(),\n",
    "                   rotation = 90)\n",
    "plt.xlabel(\"App types\")\n",
    "plt.title('App use by types Counts')\n",
    "plt.ylabel('Number of people using App')\n",
    "plt.savefig('App use by types Counts.png')\n",
    "plt.show()"
   ]
  },
  {
   "cell_type": "markdown",
   "metadata": {
    "heading_collapsed": true
   },
   "source": [
    "## Q11 - Number of Apps\n",
    "\n",
    "How many Apps do you have on your smartphone/iPod Touch/Tablet? If you have more than of these device, please tell us the total number of Apps."
   ]
  },
  {
   "cell_type": "markdown",
   "metadata": {
    "hidden": true
   },
   "source": [
    "| Answer | Value |\n",
    "|---|---|\n",
    "| 1-5   | 1 | \n",
    "| 6-10      | 2 |\n",
    "| 11-30      | 3 |\n",
    "| 31+      | 4 |\n",
    "| Don't know      | 4 |\n",
    "| None      | 6 |\n",
    "\n",
    "**Most likely the don't knw should be encoded as 5**"
   ]
  },
  {
   "cell_type": "code",
   "execution_count": null,
   "metadata": {
    "ExecuteTime": {
     "end_time": "2019-03-28T17:24:51.535273Z",
     "start_time": "2019-03-28T17:24:51.531806Z"
    },
    "hidden": true,
    "init_cell": true
   },
   "outputs": [],
   "source": [
    "data.rename(columns = {'q11' : 'q11_NumApps'},\n",
    "            inplace = True)"
   ]
  },
  {
   "cell_type": "code",
   "execution_count": null,
   "metadata": {
    "ExecuteTime": {
     "end_time": "2019-03-28T17:24:51.546673Z",
     "start_time": "2019-03-28T17:24:51.540843Z"
    },
    "hidden": true
   },
   "outputs": [],
   "source": [
    "labels_q11 = ['1-5',\n",
    "              '6-10',\n",
    "              '11-30',\n",
    "              '31+',\n",
    "              \"Don't know\",\n",
    "              'None']\n",
    "# ensure only the used labels remain\n",
    "ind = list(data['q11_NumApps'].value_counts().index -1)\n",
    "ind.sort()\n",
    "labels_q11 = [labels_q11[i] for i in ind]"
   ]
  },
  {
   "cell_type": "code",
   "execution_count": null,
   "metadata": {
    "ExecuteTime": {
     "end_time": "2019-03-28T17:24:51.796218Z",
     "start_time": "2019-03-28T17:24:51.548841Z"
    },
    "hidden": true
   },
   "outputs": [],
   "source": [
    "fig, ax = plt.subplots(figsize = (15, 6))\n",
    "sns.countplot(x = 'q11_NumApps',\n",
    "              data = data);\n",
    "ax.set_xticklabels(labels_q11,\n",
    "                   rotation = 45)\n",
    "plt.title('Number of Apps on devices Count')\n",
    "plt.xlabel(\"Number of Apps on devices\")\n",
    "plt.savefig('Number of Apps Counts.png')\n",
    "plt.show()"
   ]
  },
  {
   "cell_type": "markdown",
   "metadata": {
    "ExecuteTime": {
     "end_time": "2019-03-22T18:15:49.155247Z",
     "start_time": "2019-03-22T18:15:49.148006Z"
    },
    "heading_collapsed": true
   },
   "source": [
    "## Q12 - Free Apps %\n",
    "\n",
    "Of your Apps, what percent were free to download?"
   ]
  },
  {
   "cell_type": "markdown",
   "metadata": {
    "hidden": true
   },
   "source": [
    "| Answer | Value |\n",
    "|---|---|\n",
    "| None of my Apps were free   | 1 | \n",
    "| 1%-25%      | 2 |\n",
    "| 26% - 50%      | 3 |\n",
    "| 51% - 75%      | 4 |\n",
    "| 76% - 99%      | 5 |\n",
    "| All of my Apps were free      | 6 |"
   ]
  },
  {
   "cell_type": "code",
   "execution_count": null,
   "metadata": {
    "ExecuteTime": {
     "end_time": "2019-03-28T17:24:52.042164Z",
     "start_time": "2019-03-28T17:24:52.039016Z"
    },
    "hidden": true,
    "init_cell": true
   },
   "outputs": [],
   "source": [
    "data.rename(columns = {'q12' : 'q12_PctFreeApps'},\n",
    "            inplace = True)"
   ]
  },
  {
   "cell_type": "code",
   "execution_count": null,
   "metadata": {
    "ExecuteTime": {
     "end_time": "2019-03-28T17:24:52.052486Z",
     "start_time": "2019-03-28T17:24:52.046927Z"
    },
    "code_folding": [],
    "hidden": true
   },
   "outputs": [],
   "source": [
    "labels_q12 = ['0',\n",
    "              '1-25',\n",
    "              '26 - 50',\n",
    "              '51 - 75',\n",
    "              \"76 - 99\",\n",
    "              '100']\n",
    "# ensure only the used labels remain\n",
    "ind = list(data['q12_PctFreeApps'].value_counts().index -1)\n",
    "ind.sort()\n",
    "labels_q12 = [labels_q12[i] for i in ind]"
   ]
  },
  {
   "cell_type": "code",
   "execution_count": null,
   "metadata": {
    "ExecuteTime": {
     "end_time": "2019-03-28T17:24:52.311873Z",
     "start_time": "2019-03-28T17:24:52.054841Z"
    },
    "hidden": true
   },
   "outputs": [],
   "source": [
    "fig, ax = plt.subplots(figsize = (15, 6))\n",
    "sns.countplot(x = 'q12_PctFreeApps',\n",
    "              data = data);\n",
    "ax.set_xticklabels(labels_q12,\n",
    "                   rotation = 90)\n",
    "plt.title('Count')\n",
    "plt.xlabel(\"Percentage of free Apps\")\n",
    "plt.savefig('Percentage of free apps.png')\n",
    "plt.show()"
   ]
  },
  {
   "cell_type": "markdown",
   "metadata": {
    "heading_collapsed": true
   },
   "source": [
    "## Q13 - Number Website Visits\n",
    "\n",
    "How many times per week do you visit each of the following websites?\n"
   ]
  },
  {
   "cell_type": "markdown",
   "metadata": {
    "hidden": true
   },
   "source": [
    "| Answer Column | Website |\n",
    "|---|---|\n",
    "| q13r1  | Facebook |\n",
    "| q13r2  | Twitter |\n",
    "| q13r3  | Myspace |\n",
    "| q13r4  | Pandora Radio |\n",
    "| q13r5  | Vevo |\n",
    "| q13r6  | YouTube |\n",
    "| q13r7  | AOL Radio |\n",
    "| q13r8  | Last.fm |\n",
    "| q13r9  | Yahoo Entertainment and Music |\n",
    "| q13r10 | IMDB |\n",
    "| q13r11 | LinkedIn |\n",
    "| q13r12 | Netflix |\n",
    "\n",
    "| Answer Code | Meaning |\n",
    "|---|---|\n",
    "| 1 | very often|\n",
    "| 2 | sometimes|\n",
    "| 3 | rarely|\n",
    "| 4 | almost never|\n",
    "\n",
    "**The answer codes don't make sense for this question - how many times can not be answered with rarely**"
   ]
  },
  {
   "cell_type": "code",
   "execution_count": null,
   "metadata": {
    "ExecuteTime": {
     "end_time": "2019-03-28T17:24:52.610307Z",
     "start_time": "2019-03-28T17:24:52.607090Z"
    },
    "code_folding": [],
    "hidden": true
   },
   "outputs": [],
   "source": [
    "labels_q13 = ['very often',\n",
    "              'sometimes',\n",
    "              'rarely',\n",
    "              'almost never']"
   ]
  },
  {
   "cell_type": "code",
   "execution_count": null,
   "metadata": {
    "ExecuteTime": {
     "end_time": "2019-03-28T17:24:52.631052Z",
     "start_time": "2019-03-28T17:24:52.625363Z"
    },
    "code_folding": [],
    "hidden": true
   },
   "outputs": [],
   "source": [
    "# All the heading information in a easy to use format\n",
    "Q13 = pd.DataFrame({'Statement' : ['Facebook',\n",
    "                                   'Twitter',\n",
    "                                   'Myspace',\n",
    "                                   'Pandora Radio',\n",
    "                                   'Vevo',\n",
    "                                   'YouTube',\n",
    "                                   'AOL Radio',\n",
    "                                   'Last.fm',\n",
    "                                   'Yahoo Entertainment and Music',\n",
    "                                   'IMDB',\n",
    "                                   'LinkedIn',\n",
    "                                   'Netflix'],\n",
    "                   'Short' : ['Facebook',\n",
    "                              'Twitter',\n",
    "                              'Myspace',\n",
    "                              'Pandora Radio',\n",
    "                              'Vevo',\n",
    "                              'YouTube',\n",
    "                              'AOL Radio',\n",
    "                              'Last.fm',\n",
    "                              'Yahoo Entertainment and Music',\n",
    "                              'IMDB',\n",
    "                              'LinkedIn',\n",
    "                              'Netflix'],\n",
    "                   'CellCode' : ['q13r1_SiteVisits_Facebook',\n",
    "                                 'q13r2_SiteVisits_Twitter',\n",
    "                                 'q13r3_SiteVisits_Myspace',\n",
    "                                 'q13r4_SiteVisits_Pandora',\n",
    "                                 'q13r5_SiteVisits_Vevo',\n",
    "                                 'q13r6_SiteVisits_YouTube',\n",
    "                                 'q13r7_SiteVisits_AOL',\n",
    "                                 'q13r8_SiteVisits_Last',\n",
    "                                 'q13r9_SiteVisits_Yahoo',\n",
    "                                 'q13r10_SiteVisits_IMDB',\n",
    "                                 'q13r11_SiteVisits_LinkedIn',\n",
    "                                 'q13r12_SiteVisits_Netflix']},\n",
    "                  index = ['r1',\n",
    "                           'r2',\n",
    "                           'r3',\n",
    "                           'r4',\n",
    "                           'r5',\n",
    "                           'r6',\n",
    "                           'r7',\n",
    "                           'r8',\n",
    "                           'r9',\n",
    "                           'r10',\n",
    "                           'r11',\n",
    "                           'r12'])"
   ]
  },
  {
   "cell_type": "markdown",
   "metadata": {
    "heading_collapsed": true,
    "hidden": true
   },
   "source": [
    "### R1 - Facebook"
   ]
  },
  {
   "cell_type": "code",
   "execution_count": null,
   "metadata": {
    "ExecuteTime": {
     "end_time": "2019-03-28T17:24:52.936665Z",
     "start_time": "2019-03-28T17:24:52.932613Z"
    },
    "hidden": true
   },
   "outputs": [],
   "source": [
    "data.rename(columns = {'q13r1' : 'q13r1_SiteVisits_Facebook'},\n",
    "            inplace = True)"
   ]
  },
  {
   "cell_type": "code",
   "execution_count": null,
   "metadata": {
    "ExecuteTime": {
     "end_time": "2019-03-28T17:24:53.165755Z",
     "start_time": "2019-03-28T17:24:52.942196Z"
    },
    "hidden": true
   },
   "outputs": [],
   "source": [
    "plotCounts(data, Q13, 'r1', labels_q13)"
   ]
  },
  {
   "cell_type": "markdown",
   "metadata": {
    "heading_collapsed": true,
    "hidden": true
   },
   "source": [
    "### R2 - Twitter"
   ]
  },
  {
   "cell_type": "code",
   "execution_count": null,
   "metadata": {
    "ExecuteTime": {
     "end_time": "2019-03-28T17:24:53.186060Z",
     "start_time": "2019-03-28T17:24:53.182605Z"
    },
    "hidden": true
   },
   "outputs": [],
   "source": [
    "data.rename(columns = {'q13r2' : 'q13r2_SiteVisits_Twitter'},\n",
    "            inplace = True)"
   ]
  },
  {
   "cell_type": "code",
   "execution_count": null,
   "metadata": {
    "ExecuteTime": {
     "end_time": "2019-03-28T17:24:53.403233Z",
     "start_time": "2019-03-28T17:24:53.188735Z"
    },
    "hidden": true
   },
   "outputs": [],
   "source": [
    "plotCounts(data, Q13, 'r2', labels_q13)"
   ]
  },
  {
   "cell_type": "markdown",
   "metadata": {
    "heading_collapsed": true,
    "hidden": true
   },
   "source": [
    "### R3 - Myspace"
   ]
  },
  {
   "cell_type": "code",
   "execution_count": null,
   "metadata": {
    "ExecuteTime": {
     "end_time": "2019-03-28T17:24:53.435387Z",
     "start_time": "2019-03-28T17:24:53.431775Z"
    },
    "hidden": true
   },
   "outputs": [],
   "source": [
    "data.rename(columns = {'q13r3' : 'q13r3_SiteVisits_Myspace'},\n",
    "            inplace = True)"
   ]
  },
  {
   "cell_type": "code",
   "execution_count": null,
   "metadata": {
    "ExecuteTime": {
     "end_time": "2019-03-28T17:24:53.685354Z",
     "start_time": "2019-03-28T17:24:53.440592Z"
    },
    "hidden": true
   },
   "outputs": [],
   "source": [
    "plotCounts(data, Q13, 'r3', labels_q13)"
   ]
  },
  {
   "cell_type": "markdown",
   "metadata": {
    "heading_collapsed": true,
    "hidden": true
   },
   "source": [
    "### R4 - Pandora Radio"
   ]
  },
  {
   "cell_type": "code",
   "execution_count": null,
   "metadata": {
    "ExecuteTime": {
     "end_time": "2019-03-28T17:24:53.702607Z",
     "start_time": "2019-03-28T17:24:53.697880Z"
    },
    "hidden": true
   },
   "outputs": [],
   "source": [
    "data.rename(columns = {'q13r4' : 'q13r4_SiteVisits_Pandora'},\n",
    "            inplace = True)"
   ]
  },
  {
   "cell_type": "code",
   "execution_count": null,
   "metadata": {
    "ExecuteTime": {
     "end_time": "2019-03-28T17:24:53.932646Z",
     "start_time": "2019-03-28T17:24:53.709231Z"
    },
    "hidden": true
   },
   "outputs": [],
   "source": [
    "plotCounts(data, Q13, 'r4', labels_q13)"
   ]
  },
  {
   "cell_type": "markdown",
   "metadata": {
    "heading_collapsed": true,
    "hidden": true
   },
   "source": [
    "### R5 - Vevo"
   ]
  },
  {
   "cell_type": "code",
   "execution_count": null,
   "metadata": {
    "ExecuteTime": {
     "end_time": "2019-03-28T17:24:53.954410Z",
     "start_time": "2019-03-28T17:24:53.950999Z"
    },
    "hidden": true
   },
   "outputs": [],
   "source": [
    "data.rename(columns = {'q13r5' : 'q13r5_SiteVisits_Vevo'},\n",
    "            inplace = True)"
   ]
  },
  {
   "cell_type": "code",
   "execution_count": null,
   "metadata": {
    "ExecuteTime": {
     "end_time": "2019-03-28T17:24:54.179236Z",
     "start_time": "2019-03-28T17:24:53.957732Z"
    },
    "hidden": true
   },
   "outputs": [],
   "source": [
    "plotCounts(data, Q13, 'r5', labels_q13)"
   ]
  },
  {
   "cell_type": "markdown",
   "metadata": {
    "heading_collapsed": true,
    "hidden": true
   },
   "source": [
    "### R6 - YouTube"
   ]
  },
  {
   "cell_type": "code",
   "execution_count": null,
   "metadata": {
    "ExecuteTime": {
     "end_time": "2019-03-28T17:24:54.199879Z",
     "start_time": "2019-03-28T17:24:54.196653Z"
    },
    "hidden": true
   },
   "outputs": [],
   "source": [
    "data.rename(columns = {'q13r6' : 'q13r6_SiteVisits_YouTube'},\n",
    "            inplace = True)"
   ]
  },
  {
   "cell_type": "code",
   "execution_count": null,
   "metadata": {
    "ExecuteTime": {
     "end_time": "2019-03-28T17:24:54.421413Z",
     "start_time": "2019-03-28T17:24:54.203061Z"
    },
    "hidden": true
   },
   "outputs": [],
   "source": [
    "plotCounts(data, Q13, 'r6', labels_q13)"
   ]
  },
  {
   "cell_type": "markdown",
   "metadata": {
    "heading_collapsed": true,
    "hidden": true
   },
   "source": [
    "### R7 - AOL Radio"
   ]
  },
  {
   "cell_type": "code",
   "execution_count": null,
   "metadata": {
    "ExecuteTime": {
     "end_time": "2019-03-28T17:24:54.458165Z",
     "start_time": "2019-03-28T17:24:54.454247Z"
    },
    "hidden": true
   },
   "outputs": [],
   "source": [
    "data.rename(columns = {'q13r7' : 'q13r7_SiteVisits_AOL'},\n",
    "            inplace = True)"
   ]
  },
  {
   "cell_type": "code",
   "execution_count": null,
   "metadata": {
    "ExecuteTime": {
     "end_time": "2019-03-28T17:24:54.714910Z",
     "start_time": "2019-03-28T17:24:54.462994Z"
    },
    "hidden": true
   },
   "outputs": [],
   "source": [
    "plotCounts(data, Q13, 'r7', labels_q13)"
   ]
  },
  {
   "cell_type": "markdown",
   "metadata": {
    "heading_collapsed": true,
    "hidden": true
   },
   "source": [
    "### R8 - Last.fm"
   ]
  },
  {
   "cell_type": "code",
   "execution_count": null,
   "metadata": {
    "ExecuteTime": {
     "end_time": "2019-03-28T17:24:54.754480Z",
     "start_time": "2019-03-28T17:24:54.750644Z"
    },
    "hidden": true
   },
   "outputs": [],
   "source": [
    "data.rename(columns = {'q13r8' : 'q13r8_SiteVisits_Last'},\n",
    "            inplace = True)"
   ]
  },
  {
   "cell_type": "code",
   "execution_count": null,
   "metadata": {
    "ExecuteTime": {
     "end_time": "2019-03-28T17:24:54.993427Z",
     "start_time": "2019-03-28T17:24:54.759606Z"
    },
    "hidden": true
   },
   "outputs": [],
   "source": [
    "plotCounts(data, Q13, 'r8', labels_q13)"
   ]
  },
  {
   "cell_type": "markdown",
   "metadata": {
    "heading_collapsed": true,
    "hidden": true
   },
   "source": [
    "### R9 - Yahoo Entertainment and Music"
   ]
  },
  {
   "cell_type": "code",
   "execution_count": null,
   "metadata": {
    "ExecuteTime": {
     "end_time": "2019-03-28T17:24:55.030586Z",
     "start_time": "2019-03-28T17:24:55.027059Z"
    },
    "hidden": true
   },
   "outputs": [],
   "source": [
    "data.rename(columns = {'q13r9' : 'q13r9_SiteVisits_Yahoo'},\n",
    "            inplace = True)"
   ]
  },
  {
   "cell_type": "code",
   "execution_count": null,
   "metadata": {
    "ExecuteTime": {
     "end_time": "2019-03-28T17:24:55.322279Z",
     "start_time": "2019-03-28T17:24:55.034356Z"
    },
    "hidden": true
   },
   "outputs": [],
   "source": [
    "plotCounts(data, Q13, 'r9', labels_q13)"
   ]
  },
  {
   "cell_type": "markdown",
   "metadata": {
    "heading_collapsed": true,
    "hidden": true
   },
   "source": [
    "### R10 - IMDB"
   ]
  },
  {
   "cell_type": "code",
   "execution_count": null,
   "metadata": {
    "ExecuteTime": {
     "end_time": "2019-03-28T17:24:55.327564Z",
     "start_time": "2019-03-28T17:24:55.324161Z"
    },
    "hidden": true
   },
   "outputs": [],
   "source": [
    "data.rename(columns = {'q13r10' : 'q13r10_SiteVisits_IMDB'},\n",
    "            inplace = True)"
   ]
  },
  {
   "cell_type": "code",
   "execution_count": null,
   "metadata": {
    "ExecuteTime": {
     "end_time": "2019-03-28T17:24:55.549782Z",
     "start_time": "2019-03-28T17:24:55.329863Z"
    },
    "hidden": true
   },
   "outputs": [],
   "source": [
    "plotCounts(data, Q13, 'r10', labels_q13)"
   ]
  },
  {
   "cell_type": "markdown",
   "metadata": {
    "heading_collapsed": true,
    "hidden": true
   },
   "source": [
    "### R11 - LinkedIn"
   ]
  },
  {
   "cell_type": "code",
   "execution_count": null,
   "metadata": {
    "ExecuteTime": {
     "end_time": "2019-03-28T17:24:55.609220Z",
     "start_time": "2019-03-28T17:24:55.605140Z"
    },
    "hidden": true
   },
   "outputs": [],
   "source": [
    "data.rename(columns = {'q13r11' : 'q13r11_SiteVisits_LinkedIn'},\n",
    "            inplace = True)"
   ]
  },
  {
   "cell_type": "code",
   "execution_count": null,
   "metadata": {
    "ExecuteTime": {
     "end_time": "2019-03-28T17:24:55.849936Z",
     "start_time": "2019-03-28T17:24:55.615150Z"
    },
    "hidden": true
   },
   "outputs": [],
   "source": [
    "plotCounts(data, Q13, 'r11', labels_q13)"
   ]
  },
  {
   "cell_type": "markdown",
   "metadata": {
    "heading_collapsed": true,
    "hidden": true
   },
   "source": [
    "### R12 - Netflix"
   ]
  },
  {
   "cell_type": "code",
   "execution_count": null,
   "metadata": {
    "ExecuteTime": {
     "end_time": "2019-03-28T17:24:55.978753Z",
     "start_time": "2019-03-28T17:24:55.975796Z"
    },
    "hidden": true
   },
   "outputs": [],
   "source": [
    "data.rename(columns = {'q13r12' : 'q13r12_SiteVisits_Netflix'},\n",
    "            inplace = True)"
   ]
  },
  {
   "cell_type": "code",
   "execution_count": null,
   "metadata": {
    "ExecuteTime": {
     "end_time": "2019-03-28T17:24:56.181404Z",
     "start_time": "2019-03-28T17:24:55.982422Z"
    },
    "hidden": true
   },
   "outputs": [],
   "source": [
    "plotCounts(data, Q13, 'r12', labels_q13)"
   ]
  },
  {
   "cell_type": "markdown",
   "metadata": {
    "heading_collapsed": true
   },
   "source": [
    "## Q24 - Statements\n",
    "\n",
    "Please tell us how much you agree or disagree with each of the following statements."
   ]
  },
  {
   "cell_type": "markdown",
   "metadata": {
    "hidden": true
   },
   "source": [
    "| Answer Column | Statement |\n",
    "|---|---|\n",
    "| q24r1  | I try to keep up with technological developments |\n",
    "| q24r2  | People often ask my advice when they are looking to buy technology or electronic products |\n",
    "| q24r3  | I enjoy purchasing new gadgets and appliances |\n",
    "| q24r4  | I think there is too much technology in everyday life |\n",
    "| q24r5  | I enjoy using technology to give me more control over my life |\n",
    "| q24r6  | I look for web tools and Apps that help me save time |\n",
    "| q24r7  | Music is an important part of my life |\n",
    "| q24r8  | I like learning more about my favorite TV shows when I’m not watching them |\n",
    "| q24r9  | I think there is too much information out there today from the internet and sites like Facebook |\n",
    "| q24r10 | I’m always checking on friends and family through Facebook or other networking websites |\n",
    "| q24r11 | The internet makes it easier to keep in touch with family and friends |\n",
    "| q24r12 | The internet makes it easy to avoid seeing or having to speak with family and friends |\n",
    "\n",
    "| Answer Code | Meaning |\n",
    "|---|---|\n",
    "| 1 | Agree Strongly|\n",
    "| 2 | Agree|\n",
    "| 3 | Agree Somewhat|\n",
    "| 4 | Disagree Somewhat|\n",
    "| 5 | Disagree |\n",
    "| 6 | Disagree Strongly |\n",
    "\n"
   ]
  },
  {
   "cell_type": "code",
   "execution_count": null,
   "metadata": {
    "ExecuteTime": {
     "end_time": "2019-03-28T17:24:56.531028Z",
     "start_time": "2019-03-28T17:24:56.528263Z"
    },
    "code_folding": [],
    "hidden": true
   },
   "outputs": [],
   "source": [
    "labels_q24 = ['Agree Strongly',\n",
    "              'Agree',\n",
    "              'Agree Somewhat',\n",
    "              'Disagree Somewhat',\n",
    "              'Disagree',\n",
    "              'Disagree Strongly']"
   ]
  },
  {
   "cell_type": "code",
   "execution_count": null,
   "metadata": {
    "ExecuteTime": {
     "end_time": "2019-03-28T17:24:56.543399Z",
     "start_time": "2019-03-28T17:24:56.536213Z"
    },
    "code_folding": [],
    "hidden": true
   },
   "outputs": [],
   "source": [
    "Q24 = pd.DataFrame({'Statement' : ['I try to keep up with technological developments',\n",
    "                                   'People often ask my advice when they are looking to buy technology or electronic products',\n",
    "                                   'I enjoy purchasing new gadgets and appliances',\n",
    "                                   'I think there is too much technology in everyday life',\n",
    "                                   'I enjoy using technology to give me more control over my life',\n",
    "                                   'I look for web tools and Apps that help me save time',\n",
    "                                   'Music is an important part of my life',\n",
    "                                   'I like learning more about my favorite TV shows when I’m not watching them',\n",
    "                                   'I think there is too much information out there today from the internet and sites like Facebook',\n",
    "                                   'I’m always checking on friends and family through Facebook or other networking websites',\n",
    "                                   'The internet makes it easier to keep in touch with family and friends',\n",
    "                                   'The internet makes it easy to avoid seeing or having to speak with family and friends'],\n",
    "                   'Short' : ['technological developments',\n",
    "                              'purchase advice',\n",
    "                              'purchase gadgets',\n",
    "                              'too much technology',\n",
    "                              'control through technology',\n",
    "                              'time saving',\n",
    "                              'Importance of music',\n",
    "                              'learning about TV shows',\n",
    "                              'too much information',\n",
    "                              'checking on friends',\n",
    "                              'easy to keep in touch',\n",
    "                              'easy to avoid seeing friends'],\n",
    "                   'CellCode' : ['q24r1_StatM_techDev',\n",
    "                                 'q24r2_StatM_purchAdv',\n",
    "                                 'q24r3_StatM_purchGadg',\n",
    "                                 'q24r4_StatM_tooMuchTech',\n",
    "                                 'q24r5_StatM_controlTech',\n",
    "                                 'q24r6_StatM_timeSaving',\n",
    "                                 'q24r7_StatM_MusicImport',\n",
    "                                 'q24r8_StatM_TVShowsLearning',\n",
    "                                 'q24r9_StatM_tooMuchInfo',\n",
    "                                 'q24r10_StatM_checkFriends',\n",
    "                                 'q24r11_StatM_keepInTouch',\n",
    "                                 'q24r12_StatM_avoidFriends']},\n",
    "                  index = ['r1',\n",
    "                           'r2',\n",
    "                           'r3',\n",
    "                           'r4',\n",
    "                           'r5',\n",
    "                           'r6',\n",
    "                           'r7',\n",
    "                           'r8',\n",
    "                           'r9',\n",
    "                           'r10',\n",
    "                           'r11',\n",
    "                           'r12'])"
   ]
  },
  {
   "cell_type": "code",
   "execution_count": null,
   "metadata": {
    "ExecuteTime": {
     "end_time": "2019-03-28T17:24:56.551034Z",
     "start_time": "2019-03-28T17:24:56.545917Z"
    },
    "hidden": true
   },
   "outputs": [],
   "source": [
    "data.rename(columns = {'q24r1' : 'q24r1_StatM_techDev',\n",
    "                       'q24r2' : 'q24r2_StatM_purchAdv',\n",
    "                       'q24r3' : 'q24r3_StatM_purchGadg',\n",
    "                       'q24r4' : 'q24r4_StatM_tooMuchTech',\n",
    "                       'q24r5' : 'q24r5_StatM_controlTech',\n",
    "                       'q24r6' : 'q24r6_StatM_timeSaving',\n",
    "                       'q24r7' : 'q24r7_StatM_MusicImport',\n",
    "                       'q24r8' : 'q24r8_StatM_TVShowsLearning',\n",
    "                       'q24r9' : 'q24r9_StatM_tooMuchInfo',\n",
    "                       'q24r10': 'q24r10_StatM_checkFriends',\n",
    "                       'q24r11': 'q24r11_StatM_keepInTouch',\n",
    "                       'q24r12': 'q24r12_StatM_avoidFriends'},\n",
    "            inplace = True)"
   ]
  },
  {
   "cell_type": "markdown",
   "metadata": {
    "heading_collapsed": true,
    "hidden": true,
    "variables": {
     "Q24": "<div>\n<style scoped>\n    .dataframe tbody tr th:only-of-type {\n        vertical-align: middle;\n    }\n\n    .dataframe tbody tr th {\n        vertical-align: top;\n    }\n\n    .dataframe thead th {\n        text-align: right;\n    }\n</style>\n<table border=\"1\" class=\"dataframe\">\n  <thead>\n    <tr style=\"text-align: right;\">\n      <th></th>\n      <th>Statement</th>\n      <th>Short</th>\n      <th>CellCode</th>\n    </tr>\n  </thead>\n  <tbody>\n    <tr>\n      <th>r1</th>\n      <td>I try to keep up with technological developments</td>\n      <td>technological developments</td>\n      <td>q24r1_StatM_techDev</td>\n    </tr>\n    <tr>\n      <th>r2</th>\n      <td>People often ask my advice when they are looki...</td>\n      <td>purchase advice</td>\n      <td>q24r2_StatM_purchAdv</td>\n    </tr>\n    <tr>\n      <th>r3</th>\n      <td>I enjoy purchasing new gadgets and appliances</td>\n      <td>purchase gadgets</td>\n      <td>q24r3_StatM_purchGadg</td>\n    </tr>\n    <tr>\n      <th>r4</th>\n      <td>I think there is too much technology in everyd...</td>\n      <td>too much technology</td>\n      <td>q24r4_StatM_tooMuchTech</td>\n    </tr>\n    <tr>\n      <th>r5</th>\n      <td>I enjoy using technology to give me more contr...</td>\n      <td>control through technology</td>\n      <td>q24r5_StatM_controlTech</td>\n    </tr>\n    <tr>\n      <th>r6</th>\n      <td>I look for web tools and Apps that help me sav...</td>\n      <td>time saving</td>\n      <td>q24r6_StatM_timeSaving</td>\n    </tr>\n    <tr>\n      <th>r7</th>\n      <td>Music is an important part of my life</td>\n      <td>Importance of music</td>\n      <td>q24r7_StatM_MusicImport</td>\n    </tr>\n    <tr>\n      <th>r8</th>\n      <td>I like learning more about my favorite TV show...</td>\n      <td>learning about TV shows</td>\n      <td>q24r8_StatM_TVShowsLearning</td>\n    </tr>\n    <tr>\n      <th>r9</th>\n      <td>I think there is too much information out ther...</td>\n      <td>too much information</td>\n      <td>q24r9_StatM_tooMuchInfo</td>\n    </tr>\n    <tr>\n      <th>r10</th>\n      <td>I’m always checking on friends and family thro...</td>\n      <td>checking on friends</td>\n      <td>q24r10_StatM_checkFriends</td>\n    </tr>\n    <tr>\n      <th>r11</th>\n      <td>The internet makes it easier to keep in touch ...</td>\n      <td>easy to keep in touch</td>\n      <td>q24r11_StatM_keepInTouch</td>\n    </tr>\n    <tr>\n      <th>r12</th>\n      <td>The internet makes it easy to avoid seeing or ...</td>\n      <td>easy to avoid seeing friends</td>\n      <td>q24r12_StatM_avoidFriends</td>\n    </tr>\n  </tbody>\n</table>\n</div>"
    }
   },
   "source": [
    "### R1 - technological developments\n",
    "\n",
    "I try to keep up with technological developments {{Q24}}"
   ]
  },
  {
   "cell_type": "code",
   "execution_count": null,
   "metadata": {
    "ExecuteTime": {
     "end_time": "2019-03-28T17:24:57.102334Z",
     "start_time": "2019-03-28T17:24:56.835263Z"
    },
    "hidden": true
   },
   "outputs": [],
   "source": [
    "plotCounts(data, Q24, 'r1', labels_q24)"
   ]
  },
  {
   "cell_type": "markdown",
   "metadata": {
    "heading_collapsed": true,
    "hidden": true
   },
   "source": [
    "### R2 - purchase advice\n",
    "\n",
    "People often ask my advice when they are looking to buy technology or electronic products"
   ]
  },
  {
   "cell_type": "code",
   "execution_count": null,
   "metadata": {
    "ExecuteTime": {
     "end_time": "2019-03-28T17:24:57.389757Z",
     "start_time": "2019-03-28T17:24:57.135328Z"
    },
    "hidden": true
   },
   "outputs": [],
   "source": [
    "plotCounts(data, Q24, 'r2', labels_q24)"
   ]
  },
  {
   "cell_type": "markdown",
   "metadata": {
    "ExecuteTime": {
     "end_time": "2019-03-22T18:54:41.888762Z",
     "start_time": "2019-03-22T18:54:41.881364Z"
    },
    "heading_collapsed": true,
    "hidden": true
   },
   "source": [
    "### R3 - purchase gadgets\n",
    "I enjoy purchasing new gadgets and appliances"
   ]
  },
  {
   "cell_type": "code",
   "execution_count": null,
   "metadata": {
    "ExecuteTime": {
     "end_time": "2019-03-28T17:24:57.683960Z",
     "start_time": "2019-03-28T17:24:57.430781Z"
    },
    "hidden": true
   },
   "outputs": [],
   "source": [
    "plotCounts(data, Q24, 'r3', labels_q24)"
   ]
  },
  {
   "cell_type": "markdown",
   "metadata": {
    "heading_collapsed": true,
    "hidden": true
   },
   "source": [
    "### R4 - too much technology\n",
    "\n",
    "I think there is too much technology in everyday life"
   ]
  },
  {
   "cell_type": "code",
   "execution_count": null,
   "metadata": {
    "ExecuteTime": {
     "end_time": "2019-03-28T17:24:57.984417Z",
     "start_time": "2019-03-28T17:24:57.710809Z"
    },
    "hidden": true
   },
   "outputs": [],
   "source": [
    "plotCounts(data, Q24, 'r4', labels_q24)"
   ]
  },
  {
   "cell_type": "markdown",
   "metadata": {
    "heading_collapsed": true,
    "hidden": true
   },
   "source": [
    "### R5 - control through technology\n",
    "\n",
    "I enjoy using technology to give me more control over my life"
   ]
  },
  {
   "cell_type": "code",
   "execution_count": null,
   "metadata": {
    "ExecuteTime": {
     "end_time": "2019-03-28T17:24:58.329272Z",
     "start_time": "2019-03-28T17:24:58.033955Z"
    },
    "hidden": true
   },
   "outputs": [],
   "source": [
    "plotCounts(data, Q24, 'r5', labels_q24)"
   ]
  },
  {
   "cell_type": "markdown",
   "metadata": {
    "heading_collapsed": true,
    "hidden": true
   },
   "source": [
    "### R6 - time saving\n",
    "\n",
    "I look for web tools and Apps that help me save time"
   ]
  },
  {
   "cell_type": "code",
   "execution_count": null,
   "metadata": {
    "ExecuteTime": {
     "end_time": "2019-03-28T17:24:58.564780Z",
     "start_time": "2019-03-28T17:24:58.333115Z"
    },
    "hidden": true
   },
   "outputs": [],
   "source": [
    "plotCounts(data, Q24, 'r6', labels_q24)"
   ]
  },
  {
   "cell_type": "markdown",
   "metadata": {
    "heading_collapsed": true,
    "hidden": true
   },
   "source": [
    "### R7 - Importance of music\n",
    "\n",
    "Music is an important part of my life"
   ]
  },
  {
   "cell_type": "code",
   "execution_count": null,
   "metadata": {
    "ExecuteTime": {
     "end_time": "2019-03-28T17:24:59.639325Z",
     "start_time": "2019-03-28T17:24:58.629811Z"
    },
    "hidden": true
   },
   "outputs": [],
   "source": [
    "plotCounts(data, Q24, 'r7', labels_q24)"
   ]
  },
  {
   "cell_type": "markdown",
   "metadata": {
    "heading_collapsed": true,
    "hidden": true
   },
   "source": [
    "### R8 - learning about TV shows\n",
    "\n",
    "I like learning more about my favorite TV shows when I’m not watching them"
   ]
  },
  {
   "cell_type": "code",
   "execution_count": null,
   "metadata": {
    "ExecuteTime": {
     "end_time": "2019-03-28T17:24:59.909335Z",
     "start_time": "2019-03-28T17:24:59.641203Z"
    },
    "hidden": true
   },
   "outputs": [],
   "source": [
    "plotCounts(data, Q24, 'r8', labels_q24)"
   ]
  },
  {
   "cell_type": "markdown",
   "metadata": {
    "ExecuteTime": {
     "end_time": "2019-03-22T19:00:56.875272Z",
     "start_time": "2019-03-22T19:00:56.868495Z"
    },
    "heading_collapsed": true,
    "hidden": true
   },
   "source": [
    "### R9 - too much information\n",
    "\n",
    "I think there is too much information out there today from the internet and sites like Facebook"
   ]
  },
  {
   "cell_type": "code",
   "execution_count": null,
   "metadata": {
    "ExecuteTime": {
     "end_time": "2019-03-28T17:25:00.151480Z",
     "start_time": "2019-03-28T17:24:59.912273Z"
    },
    "hidden": true
   },
   "outputs": [],
   "source": [
    "plotCounts(data, Q24, 'r9', labels_q24)"
   ]
  },
  {
   "cell_type": "markdown",
   "metadata": {
    "heading_collapsed": true,
    "hidden": true
   },
   "source": [
    "### R10 - checking in friends\n",
    "\n",
    "I’m always checking on friends and family through Facebook or other networking websites"
   ]
  },
  {
   "cell_type": "code",
   "execution_count": null,
   "metadata": {
    "ExecuteTime": {
     "end_time": "2019-03-28T17:25:00.398974Z",
     "start_time": "2019-03-28T17:25:00.153257Z"
    },
    "hidden": true
   },
   "outputs": [],
   "source": [
    "plotCounts(data, Q24, 'r10', labels_q24)"
   ]
  },
  {
   "cell_type": "markdown",
   "metadata": {
    "ExecuteTime": {
     "end_time": "2019-03-22T19:03:28.907472Z",
     "start_time": "2019-03-22T19:03:28.899051Z"
    },
    "heading_collapsed": true,
    "hidden": true
   },
   "source": [
    "### R11 - easy to keep in touch\n",
    "\n",
    "The internet makes it easier to keep in touch with family and friends"
   ]
  },
  {
   "cell_type": "code",
   "execution_count": null,
   "metadata": {
    "ExecuteTime": {
     "end_time": "2019-03-28T17:25:00.638117Z",
     "start_time": "2019-03-28T17:25:00.400258Z"
    },
    "hidden": true
   },
   "outputs": [],
   "source": [
    "plotCounts(data, Q24, 'r11', labels_q24)"
   ]
  },
  {
   "cell_type": "markdown",
   "metadata": {
    "heading_collapsed": true,
    "hidden": true
   },
   "source": [
    "### R12 - easy to avoid seeing friends\n",
    "\n",
    "The internet makes it easy to avoid seeing or having to speak with family and friends"
   ]
  },
  {
   "cell_type": "code",
   "execution_count": null,
   "metadata": {
    "ExecuteTime": {
     "end_time": "2019-03-28T17:25:00.857268Z",
     "start_time": "2019-03-28T17:25:00.639889Z"
    },
    "hidden": true
   },
   "outputs": [],
   "source": [
    "plotCounts(data, Q24, 'r12', labels_q24)"
   ]
  },
  {
   "cell_type": "markdown",
   "metadata": {
    "ExecuteTime": {
     "end_time": "2019-03-22T19:05:53.357567Z",
     "start_time": "2019-03-22T19:05:53.350491Z"
    },
    "heading_collapsed": true
   },
   "source": [
    "## Q25 - Personal Statements\n",
    "\n",
    "And how much do you agree or disagree with each of the following?"
   ]
  },
  {
   "cell_type": "markdown",
   "metadata": {
    "hidden": true
   },
   "source": [
    "| Answer Column | Statement |\n",
    "|---|---|\n",
    "| q25r1  | I consider myself an opinion leader |\n",
    "| q25r2  | I like to stand out from others |\n",
    "| q25r3  | I like to offer advice to others |\n",
    "| q25r4  | I like to take the lead in decision making |\n",
    "| q25r5  | I’m the first of my friends and family to try new things |\n",
    "| q25r6  | Responsibility is overrated; I’d rather be told what to do |\n",
    "| q25r7  | I like being in control |\n",
    "| q25r8  | I’m a risk taker |\n",
    "| q25r9  | I think of myself as creative |\n",
    "| q25r10 | I am an optimistic person |\n",
    "| q25r11 | I am very active and always on the go |\n",
    "| q25r12 | I always feel stretched for time |\n",
    "\n",
    "| Answer Code | Meaning |\n",
    "|---|---|\n",
    "| 1 | Agree Strongly|\n",
    "| 2 | Agree|\n",
    "| 3 | Agree Somewhat|\n",
    "| 4 | Disagree Somewhat|\n",
    "| 5 | Disagree |\n",
    "| 6 | Disagree Strongly |"
   ]
  },
  {
   "cell_type": "code",
   "execution_count": null,
   "metadata": {
    "ExecuteTime": {
     "end_time": "2019-03-28T17:25:00.980360Z",
     "start_time": "2019-03-28T17:25:00.977531Z"
    },
    "code_folding": [
     0
    ],
    "hidden": true
   },
   "outputs": [],
   "source": [
    "labels_q25 = ['Agree Strongly',\n",
    "              'Agree',\n",
    "              'Agree Somewhat',\n",
    "              'Disagree Somewhat',\n",
    "              'Disagree',\n",
    "              'Disagree Strongly']"
   ]
  },
  {
   "cell_type": "code",
   "execution_count": null,
   "metadata": {
    "ExecuteTime": {
     "end_time": "2019-03-28T17:25:00.992242Z",
     "start_time": "2019-03-28T17:25:00.985083Z"
    },
    "code_folding": [],
    "hidden": true
   },
   "outputs": [],
   "source": [
    "Q25 = pd.DataFrame({'Statement' : ['I consider myself an opinion leader',\n",
    "                                   'I like to stand out from others',\n",
    "                                   'I like to offer advice to others',\n",
    "                                   'I like to take the lead in decision making',\n",
    "                                   'I’m the first of my friends and family to try new things',\n",
    "                                   'Responsibility is overrated; I’d rather be told what to do',\n",
    "                                   'I like being in control',\n",
    "                                   'I’m a risk taker',\n",
    "                                   'I think of myself as creative',\n",
    "                                   'I am an optimistic person',\n",
    "                                   'I am very active and always on the go',\n",
    "                                   'I always feel stretched for time'],\n",
    "                   'Short' : ['opinion leader',\n",
    "                              'stand out',\n",
    "                              'offer advice',\n",
    "                              'take the lead',\n",
    "                              'try new things',\n",
    "                              'Responsibility overrated',\n",
    "                              'be in control',\n",
    "                              'risk taker',\n",
    "                              'creative',\n",
    "                              'optimistic',\n",
    "                              'very active',\n",
    "                              'stretched for time'],\n",
    "                   'CellCode' : ['q25r1_PS_opinionLeader',\n",
    "                                 'q25r2_PS_standOut',\n",
    "                                 'q25r3_PS_offerAdvice',\n",
    "                                 'q25r4_PS_takeLead',\n",
    "                                 'q25r5_PS_tryNew',\n",
    "                                 'q25r6_PS_noResponsibility',\n",
    "                                 'q25r7_PS_control',\n",
    "                                 'q25r8_PS_takeRisk',\n",
    "                                 'q25r9_PS_creative',\n",
    "                                 'q25r10_PS_optimistic',\n",
    "                                 'q25r11_PS_active',\n",
    "                                 'q25r12_PS_noTime']},\n",
    "                  index = ['r1',\n",
    "                           'r2',\n",
    "                           'r3',\n",
    "                           'r4',\n",
    "                           'r5',\n",
    "                           'r6',\n",
    "                           'r7',\n",
    "                           'r8',\n",
    "                           'r9',\n",
    "                           'r10',\n",
    "                           'r11',\n",
    "                           'r12'])"
   ]
  },
  {
   "cell_type": "code",
   "execution_count": null,
   "metadata": {
    "ExecuteTime": {
     "end_time": "2019-03-28T17:25:00.999630Z",
     "start_time": "2019-03-28T17:25:00.994523Z"
    },
    "hidden": true
   },
   "outputs": [],
   "source": [
    "data.rename(columns = {'q25r1' : 'q25r1_PS_opinionLeader',\n",
    "                       'q25r2' : 'q25r2_PS_standOut',\n",
    "                       'q25r3' : 'q25r3_PS_offerAdvice',\n",
    "                       'q25r4' : 'q25r4_PS_takeLead',\n",
    "                       'q25r5' : 'q25r5_PS_tryNew',\n",
    "                       'q25r6' : 'q25r6_PS_noResponsibility',\n",
    "                       'q25r7' : 'q25r7_PS_control',\n",
    "                       'q25r8' : 'q25r8_PS_takeRisk',\n",
    "                       'q25r9' : 'q25r9_PS_creative',\n",
    "                       'q25r10': 'q25r10_PS_optimistic',\n",
    "                       'q25r11': 'q25r11_PS_active',\n",
    "                       'q25r12': 'q25r12_PS_noTime'},\n",
    "            inplace = True)"
   ]
  },
  {
   "cell_type": "markdown",
   "metadata": {
    "heading_collapsed": true,
    "hidden": true
   },
   "source": [
    "### R1 - opinion leader\n",
    "\n",
    "I consider myself an opinion leader"
   ]
  },
  {
   "cell_type": "code",
   "execution_count": null,
   "metadata": {
    "ExecuteTime": {
     "end_time": "2019-03-28T17:25:01.568628Z",
     "start_time": "2019-03-28T17:25:01.288234Z"
    },
    "hidden": true
   },
   "outputs": [],
   "source": [
    "plotCounts(data, Q25, 'r1', labels_q25)"
   ]
  },
  {
   "cell_type": "markdown",
   "metadata": {
    "heading_collapsed": true,
    "hidden": true
   },
   "source": [
    "### R2 - stand out\n",
    "\n",
    "I like to stand out from others"
   ]
  },
  {
   "cell_type": "code",
   "execution_count": null,
   "metadata": {
    "ExecuteTime": {
     "end_time": "2019-03-28T17:25:01.869859Z",
     "start_time": "2019-03-28T17:25:01.634141Z"
    },
    "hidden": true
   },
   "outputs": [],
   "source": [
    "plotCounts(data, Q25, 'r2', labels_q25)"
   ]
  },
  {
   "cell_type": "markdown",
   "metadata": {
    "heading_collapsed": true,
    "hidden": true
   },
   "source": [
    "### R3 - offer advice\n",
    "\n",
    "I like to offer advice to others"
   ]
  },
  {
   "cell_type": "code",
   "execution_count": null,
   "metadata": {
    "ExecuteTime": {
     "end_time": "2019-03-28T17:25:02.164923Z",
     "start_time": "2019-03-28T17:25:01.950973Z"
    },
    "hidden": true
   },
   "outputs": [],
   "source": [
    "plotCounts(data, Q25, 'r3', labels_q25)"
   ]
  },
  {
   "cell_type": "markdown",
   "metadata": {
    "heading_collapsed": true,
    "hidden": true
   },
   "source": [
    "### R4 - take the lead\n",
    "\n",
    "I like to take the lead in decision making"
   ]
  },
  {
   "cell_type": "code",
   "execution_count": null,
   "metadata": {
    "ExecuteTime": {
     "end_time": "2019-03-28T17:25:02.521595Z",
     "start_time": "2019-03-28T17:25:02.243635Z"
    },
    "hidden": true
   },
   "outputs": [],
   "source": [
    "plotCounts(data, Q25, 'r4', labels_q25)"
   ]
  },
  {
   "cell_type": "markdown",
   "metadata": {
    "heading_collapsed": true,
    "hidden": true
   },
   "source": [
    "### R5 - try new things\n",
    "\n",
    "I’m the first of my friends and family to try new things"
   ]
  },
  {
   "cell_type": "code",
   "execution_count": null,
   "metadata": {
    "ExecuteTime": {
     "end_time": "2019-03-28T17:25:02.904660Z",
     "start_time": "2019-03-28T17:25:02.657149Z"
    },
    "hidden": true
   },
   "outputs": [],
   "source": [
    "plotCounts(data, Q25, 'r5', labels_q25)"
   ]
  },
  {
   "cell_type": "markdown",
   "metadata": {
    "heading_collapsed": true,
    "hidden": true
   },
   "source": [
    "### R6 - Responsibility overrated\n",
    "\n",
    "Responsibility is overrated; I’d rather be told what to do"
   ]
  },
  {
   "cell_type": "code",
   "execution_count": null,
   "metadata": {
    "ExecuteTime": {
     "end_time": "2019-03-28T17:25:03.264648Z",
     "start_time": "2019-03-28T17:25:03.000887Z"
    },
    "hidden": true
   },
   "outputs": [],
   "source": [
    "plotCounts(data, Q25, 'r6', labels_q25)"
   ]
  },
  {
   "cell_type": "markdown",
   "metadata": {
    "heading_collapsed": true,
    "hidden": true
   },
   "source": [
    "### R7 - be in control\n",
    "\n",
    "I like being in control"
   ]
  },
  {
   "cell_type": "code",
   "execution_count": null,
   "metadata": {
    "ExecuteTime": {
     "end_time": "2019-03-28T17:25:03.584297Z",
     "start_time": "2019-03-28T17:25:03.334527Z"
    },
    "hidden": true
   },
   "outputs": [],
   "source": [
    "plotCounts(data, Q25, 'r7', labels_q25)"
   ]
  },
  {
   "cell_type": "markdown",
   "metadata": {
    "heading_collapsed": true,
    "hidden": true
   },
   "source": [
    "### R8 - risk taker\n",
    "\n",
    "I’m a risk taker"
   ]
  },
  {
   "cell_type": "code",
   "execution_count": null,
   "metadata": {
    "ExecuteTime": {
     "end_time": "2019-03-28T17:25:03.909584Z",
     "start_time": "2019-03-28T17:25:03.634803Z"
    },
    "hidden": true
   },
   "outputs": [],
   "source": [
    "plotCounts(data, Q25, 'r8', labels_q25)"
   ]
  },
  {
   "cell_type": "markdown",
   "metadata": {
    "heading_collapsed": true,
    "hidden": true
   },
   "source": [
    "### R9 - creative\n",
    "\n",
    "I think of myself as creative"
   ]
  },
  {
   "cell_type": "code",
   "execution_count": null,
   "metadata": {
    "ExecuteTime": {
     "end_time": "2019-03-28T17:25:04.245454Z",
     "start_time": "2019-03-28T17:25:03.995842Z"
    },
    "hidden": true
   },
   "outputs": [],
   "source": [
    "plotCounts(data, Q25, 'r9', labels_q25)"
   ]
  },
  {
   "cell_type": "markdown",
   "metadata": {
    "heading_collapsed": true,
    "hidden": true
   },
   "source": [
    "### R10 - optimistic\n",
    "\n",
    "I am an optimistic person"
   ]
  },
  {
   "cell_type": "code",
   "execution_count": null,
   "metadata": {
    "ExecuteTime": {
     "end_time": "2019-03-28T17:25:04.572941Z",
     "start_time": "2019-03-28T17:25:04.330600Z"
    },
    "hidden": true
   },
   "outputs": [],
   "source": [
    "plotCounts(data, Q25, 'r10', labels_q25)"
   ]
  },
  {
   "cell_type": "markdown",
   "metadata": {
    "heading_collapsed": true,
    "hidden": true
   },
   "source": [
    "### R11 - very active\n",
    "\n",
    "I am very active and always on the go"
   ]
  },
  {
   "cell_type": "code",
   "execution_count": null,
   "metadata": {
    "ExecuteTime": {
     "end_time": "2019-03-28T17:25:04.855974Z",
     "start_time": "2019-03-28T17:25:04.647041Z"
    },
    "hidden": true
   },
   "outputs": [],
   "source": [
    "plotCounts(data, Q25, 'r11', labels_q25)"
   ]
  },
  {
   "cell_type": "markdown",
   "metadata": {
    "heading_collapsed": true,
    "hidden": true
   },
   "source": [
    "### R12 - stretched for time\n",
    "\n",
    "I always feel stretched for time"
   ]
  },
  {
   "cell_type": "code",
   "execution_count": null,
   "metadata": {
    "ExecuteTime": {
     "end_time": "2019-03-28T17:25:05.162195Z",
     "start_time": "2019-03-28T17:25:04.944315Z"
    },
    "hidden": true
   },
   "outputs": [],
   "source": [
    "plotCounts(data, Q25, 'r12', labels_q25)"
   ]
  },
  {
   "cell_type": "markdown",
   "metadata": {
    "heading_collapsed": true
   },
   "source": [
    "## Q26 - More Statements\n",
    "\n",
    "How much do you agree or disagree with each of these statements?"
   ]
  },
  {
   "cell_type": "markdown",
   "metadata": {
    "hidden": true
   },
   "source": [
    "| Answer Column | Statement |\n",
    "|---|---|\n",
    "| q26r3  | I am always on the lookout for a bargain, discounts or deals |\n",
    "| q26r4  | I derive enjoyment from any kind of shopping |\n",
    "| q26r5  | I like package deals because I don’t have to do as much planning |\n",
    "| q26r6  | I’m always shopping online |\n",
    "| q26r18 | I find I’m often attracted to luxury brands |\n",
    "| q26r7  | I prefer to buy designer brands |\n",
    "| q26r8  | I can’t get enough Apps |\n",
    "| q26r9  | It’s not the number of Apps you have but how cool they are that really matters |\n",
    "| q26r10 | I love showing off my new Apps to others |\n",
    "| q26r11 | My children have an impact on the Apps I download |\n",
    "| q26r12 | It’s usually worth spending a few extra dollars to get extra App features |\n",
    "| q26r13 | There’s no point in earning money if I’m not going to spend it |\n",
    "| q26r14 | I am influenced by what’s hot and what’s not |\n",
    "| q26r15 | I buy brands that reflect my style |\n",
    "| q26r16 | I tend to make impulse purchases |\n",
    "| q26r17 | Above all else, I think of my mobile phone as a source of entertainment |\n",
    "\n",
    "| Answer Code | Meaning |\n",
    "|---|---|\n",
    "| 1 | Agree Strongly|\n",
    "| 2 | Agree|\n",
    "| 3 | Agree Somewhat|\n",
    "| 4 | Disagree Somewhat|\n",
    "| 5 | Disagree |\n",
    "| 6 | Disagree Strongly |"
   ]
  },
  {
   "cell_type": "code",
   "execution_count": null,
   "metadata": {
    "ExecuteTime": {
     "end_time": "2019-03-28T17:25:05.576844Z",
     "start_time": "2019-03-28T17:25:05.574018Z"
    },
    "code_folding": [
     0
    ],
    "hidden": true
   },
   "outputs": [],
   "source": [
    "labels_q26 = ['Agree Strongly',\n",
    "              'Agree',\n",
    "              'Agree Somewhat',\n",
    "              'Disagree Somewhat',\n",
    "              'Disagree',\n",
    "              'Disagree Strongly']"
   ]
  },
  {
   "cell_type": "code",
   "execution_count": null,
   "metadata": {
    "ExecuteTime": {
     "end_time": "2019-03-28T17:25:05.589606Z",
     "start_time": "2019-03-28T17:25:05.581264Z"
    },
    "code_folding": [],
    "hidden": true
   },
   "outputs": [],
   "source": [
    "Q26 = pd.DataFrame({'Statement' : ['I am always on the lookout for a bargain, discounts or deals',\n",
    "                                   'I derive enjoyment from any kind of shopping',\n",
    "                                   'I like package deals because I don’t have to do as much planning',\n",
    "                                   'I’m always shopping online',\n",
    "                                   'I find I’m often attracted to luxury brands',\n",
    "                                   'I prefer to buy designer brands',\n",
    "                                   'I can’t get enough Apps',\n",
    "                                   'It’s not the number of Apps you have but how cool they are that really matters',\n",
    "                                   'I love showing off my new Apps to others',\n",
    "                                   'My children have an impact on the Apps I download',\n",
    "                                   'It’s usually worth spending a few extra dollars to get extra App features',\n",
    "                                   'There’s no point in earning money if I’m not going to spend it',\n",
    "                                   'I am influenced by what’s hot and what’s not',\n",
    "                                   'I buy brands that reflect my style',\n",
    "                                   'I tend to make impulse purchases',\n",
    "                                   'Above all else, I think of my mobile phone as a source of entertainment'],\n",
    "                   'Short' : ['bargain',\n",
    "                              'enjoyment from shopping',\n",
    "                              'package deals',\n",
    "                              'shopping online',\n",
    "                              'attracted to luxury',\n",
    "                              'designer brands',\n",
    "                              'many Apps',\n",
    "                              'cool Apps',\n",
    "                              'showing off Apps',\n",
    "                              'children have impact',\n",
    "                              'spending on Apps',\n",
    "                              'spending money',\n",
    "                              'influenced by trends',\n",
    "                              'brands reflect style',\n",
    "                              'impulse purchases',\n",
    "                              'entertainment'],\n",
    "                   'CellCode' : ['q26r3_StateM_bargain',\n",
    "                                 'q26r4_StateM_enjoyShop',\n",
    "                                 'q26r5_StateM_deals',\n",
    "                                 'q26r6_StateM_onlineShop',\n",
    "                                 'q26r18_StateM_luxury',\n",
    "                                 'q26r7_StateM_designer',\n",
    "                                 'q26r8_StateM_manyApps',\n",
    "                                 'q26r9_StateM_coolApps',\n",
    "                                 'q26r10_StateM_showOffApps',\n",
    "                                 'q26r11_StateM_childImpact',\n",
    "                                 'q26r12_StateM_spendingApps',\n",
    "                                 'q26r13_StateM_spendMoney',\n",
    "                                 'q26r14_StateM_trendInfluence',\n",
    "                                 'q26r15_StateM_styleBrand',\n",
    "                                 'q26r16_StateM_impulsePurch',\n",
    "                                 'q26r17_StateM_entertainment']},\n",
    "                  index = ['r3',\n",
    "                           'r4',\n",
    "                           'r5',\n",
    "                           'r6',\n",
    "                           'r18',\n",
    "                           'r7',\n",
    "                           'r8',\n",
    "                           'r9',\n",
    "                           'r10',\n",
    "                           'r11',\n",
    "                           'r12',\n",
    "                           'r13',\n",
    "                           'r14',\n",
    "                           'r15',\n",
    "                           'r16',\n",
    "                           'r17'])"
   ]
  },
  {
   "cell_type": "code",
   "execution_count": null,
   "metadata": {
    "ExecuteTime": {
     "end_time": "2019-03-28T17:25:05.597503Z",
     "start_time": "2019-03-28T17:25:05.592233Z"
    },
    "hidden": true
   },
   "outputs": [],
   "source": [
    "data.rename(columns = {'q26r3' : 'q26r3_StateM_bargain',\n",
    "                       'q26r4' : 'q26r4_StateM_enjoyShop',\n",
    "                       'q26r5' : 'q26r5_StateM_deals',\n",
    "                       'q26r6' : 'q26r6_StateM_onlineShop',\n",
    "                       'q26r7' : 'q26r7_StateM_designer',\n",
    "                       'q26r8' : 'q26r8_StateM_manyApps',\n",
    "                       'q26r9' : 'q26r9_StateM_coolApps',\n",
    "                       'q26r10': 'q26r10_StateM_showOffApps',\n",
    "                       'q26r11': 'q26r11_StateM_childImpact',\n",
    "                       'q26r12': 'q26r12_StateM_spendingApps',\n",
    "                       'q26r13': 'q26r13_StateM_spendMoney',\n",
    "                       'q26r14': 'q26r14_StateM_trendInfluence',\n",
    "                       'q26r15': 'q26r15_StateM_styleBrand',\n",
    "                       'q26r16': 'q26r16_StateM_impulsePurch',\n",
    "                       'q26r17': 'q26r17_StateM_entertainment',\n",
    "                       'q26r18': 'q26r18_StateM_luxury'},\n",
    "            inplace = True)"
   ]
  },
  {
   "cell_type": "markdown",
   "metadata": {
    "heading_collapsed": true,
    "hidden": true
   },
   "source": [
    "### R3 - bargain\n",
    "\n",
    "I am always on the lookout for a bargain, discounts or deals"
   ]
  },
  {
   "cell_type": "code",
   "execution_count": null,
   "metadata": {
    "ExecuteTime": {
     "end_time": "2019-03-28T17:25:06.140884Z",
     "start_time": "2019-03-28T17:25:05.917929Z"
    },
    "hidden": true
   },
   "outputs": [],
   "source": [
    "plotCounts(data, Q26, 'r3', labels_q26)"
   ]
  },
  {
   "cell_type": "markdown",
   "metadata": {
    "heading_collapsed": true,
    "hidden": true
   },
   "source": [
    "### R4 - enjoyment from shopping\n",
    "\n",
    "I derive enjoyment from any kind of shopping"
   ]
  },
  {
   "cell_type": "code",
   "execution_count": null,
   "metadata": {
    "ExecuteTime": {
     "end_time": "2019-03-28T17:25:06.522396Z",
     "start_time": "2019-03-28T17:25:06.239198Z"
    },
    "hidden": true
   },
   "outputs": [],
   "source": [
    "plotCounts(data, Q26, 'r4', labels_q26)"
   ]
  },
  {
   "cell_type": "markdown",
   "metadata": {
    "heading_collapsed": true,
    "hidden": true
   },
   "source": [
    "### R5 - package deals\n",
    "\n",
    "I like package deals because I don’t have to do as much planning"
   ]
  },
  {
   "cell_type": "code",
   "execution_count": null,
   "metadata": {
    "ExecuteTime": {
     "end_time": "2019-03-28T17:25:06.907287Z",
     "start_time": "2019-03-28T17:25:06.633444Z"
    },
    "hidden": true
   },
   "outputs": [],
   "source": [
    "plotCounts(data, Q26, 'r5', labels_q26)"
   ]
  },
  {
   "cell_type": "markdown",
   "metadata": {
    "heading_collapsed": true,
    "hidden": true
   },
   "source": [
    "### R6 - shopping online\n",
    "\n",
    "I’m always shopping online"
   ]
  },
  {
   "cell_type": "code",
   "execution_count": null,
   "metadata": {
    "ExecuteTime": {
     "end_time": "2019-03-28T17:25:07.290642Z",
     "start_time": "2019-03-28T17:25:07.024575Z"
    },
    "hidden": true
   },
   "outputs": [],
   "source": [
    "plotCounts(data, Q26, 'r6', labels_q26)"
   ]
  },
  {
   "cell_type": "markdown",
   "metadata": {
    "heading_collapsed": true,
    "hidden": true
   },
   "source": [
    "### R7 - designer brands\n",
    "\n",
    "I prefer to buy designer brands"
   ]
  },
  {
   "cell_type": "code",
   "execution_count": null,
   "metadata": {
    "ExecuteTime": {
     "end_time": "2019-03-28T17:25:07.855476Z",
     "start_time": "2019-03-28T17:25:07.521017Z"
    },
    "hidden": true
   },
   "outputs": [],
   "source": [
    "plotCounts(data, Q26, 'r7', labels_q26)"
   ]
  },
  {
   "cell_type": "markdown",
   "metadata": {
    "heading_collapsed": true,
    "hidden": true
   },
   "source": [
    "### R8 - many Apps\n",
    "\n",
    "I can’t get enough Apps"
   ]
  },
  {
   "cell_type": "code",
   "execution_count": null,
   "metadata": {
    "ExecuteTime": {
     "end_time": "2019-03-28T17:25:08.315003Z",
     "start_time": "2019-03-28T17:25:08.099060Z"
    },
    "hidden": true
   },
   "outputs": [],
   "source": [
    "plotCounts(data, Q26, 'r8', labels_q26)"
   ]
  },
  {
   "cell_type": "markdown",
   "metadata": {
    "heading_collapsed": true,
    "hidden": true
   },
   "source": [
    "### R9 - cool Apps\n",
    "\n",
    "It’s not the number of Apps you have but how cool they are that really matters"
   ]
  },
  {
   "cell_type": "code",
   "execution_count": null,
   "metadata": {
    "ExecuteTime": {
     "end_time": "2019-03-28T17:25:08.631515Z",
     "start_time": "2019-03-28T17:25:08.410597Z"
    },
    "hidden": true
   },
   "outputs": [],
   "source": [
    "plotCounts(data, Q26, 'r9', labels_q26)"
   ]
  },
  {
   "cell_type": "markdown",
   "metadata": {
    "hidden": true
   },
   "source": [
    "### R10 - showing off Apps\n",
    "\n",
    "I love showing off my new Apps to others"
   ]
  },
  {
   "cell_type": "code",
   "execution_count": null,
   "metadata": {
    "ExecuteTime": {
     "end_time": "2019-03-28T17:25:09.026793Z",
     "start_time": "2019-03-28T17:25:08.752666Z"
    },
    "hidden": true
   },
   "outputs": [],
   "source": [
    "plotCounts(data, Q26, 'r10', labels_q26)"
   ]
  },
  {
   "cell_type": "markdown",
   "metadata": {
    "heading_collapsed": true,
    "hidden": true
   },
   "source": [
    "### R11 - children have impact\n",
    "\n",
    "My children have an impact on the Apps I download"
   ]
  },
  {
   "cell_type": "code",
   "execution_count": null,
   "metadata": {
    "ExecuteTime": {
     "end_time": "2019-03-28T17:25:09.340429Z",
     "start_time": "2019-03-28T17:25:09.118279Z"
    },
    "hidden": true
   },
   "outputs": [],
   "source": [
    "plotCounts(data, Q26, 'r11', labels_q26)"
   ]
  },
  {
   "cell_type": "markdown",
   "metadata": {
    "heading_collapsed": true,
    "hidden": true
   },
   "source": [
    "### R12 - spending on Apps\n",
    "\n",
    "It’s usually worth spending a few extra dollars to get extra App features"
   ]
  },
  {
   "cell_type": "code",
   "execution_count": null,
   "metadata": {
    "ExecuteTime": {
     "end_time": "2019-03-28T17:25:09.649302Z",
     "start_time": "2019-03-28T17:25:09.432948Z"
    },
    "hidden": true
   },
   "outputs": [],
   "source": [
    "plotCounts(data, Q26, 'r12', labels_q26)"
   ]
  },
  {
   "cell_type": "markdown",
   "metadata": {
    "heading_collapsed": true,
    "hidden": true
   },
   "source": [
    "### R13 - spending money\n",
    "\n",
    "There’s no point in earning money if I’m not going to spend it"
   ]
  },
  {
   "cell_type": "code",
   "execution_count": null,
   "metadata": {
    "ExecuteTime": {
     "end_time": "2019-03-28T17:25:09.999339Z",
     "start_time": "2019-03-28T17:25:09.742747Z"
    },
    "hidden": true
   },
   "outputs": [],
   "source": [
    "plotCounts(data, Q26, 'r13', labels_q26)"
   ]
  },
  {
   "cell_type": "markdown",
   "metadata": {
    "heading_collapsed": true,
    "hidden": true
   },
   "source": [
    "### R14 - influenced by trends\n",
    "\n",
    "I am influenced by what’s hot and what’s not"
   ]
  },
  {
   "cell_type": "code",
   "execution_count": null,
   "metadata": {
    "ExecuteTime": {
     "end_time": "2019-03-28T17:25:10.382938Z",
     "start_time": "2019-03-28T17:25:10.098987Z"
    },
    "hidden": true
   },
   "outputs": [],
   "source": [
    "plotCounts(data, Q26, 'r14', labels_q26)"
   ]
  },
  {
   "cell_type": "markdown",
   "metadata": {
    "heading_collapsed": true,
    "hidden": true
   },
   "source": [
    "### R15 - brands reflect style\n",
    "\n",
    "I buy brands that reflect my style"
   ]
  },
  {
   "cell_type": "code",
   "execution_count": null,
   "metadata": {
    "ExecuteTime": {
     "end_time": "2019-03-28T17:25:10.802333Z",
     "start_time": "2019-03-28T17:25:10.490985Z"
    },
    "hidden": true
   },
   "outputs": [],
   "source": [
    "plotCounts(data, Q26, 'r15', labels_q26)"
   ]
  },
  {
   "cell_type": "markdown",
   "metadata": {
    "heading_collapsed": true,
    "hidden": true
   },
   "source": [
    "### R16 - impulse purchases\n",
    "\n",
    "I tend to make impulse purchases"
   ]
  },
  {
   "cell_type": "code",
   "execution_count": null,
   "metadata": {
    "ExecuteTime": {
     "end_time": "2019-03-28T17:25:11.085009Z",
     "start_time": "2019-03-28T17:25:10.861364Z"
    },
    "hidden": true
   },
   "outputs": [],
   "source": [
    "plotCounts(data, Q26, 'r16', labels_q26)"
   ]
  },
  {
   "cell_type": "markdown",
   "metadata": {
    "heading_collapsed": true,
    "hidden": true
   },
   "source": [
    "### R17 - entertainment\n",
    "\n",
    "Above all else, I think of my mobile phone as a source of entertainment"
   ]
  },
  {
   "cell_type": "code",
   "execution_count": null,
   "metadata": {
    "ExecuteTime": {
     "end_time": "2019-03-28T17:25:11.437923Z",
     "start_time": "2019-03-28T17:25:11.197236Z"
    },
    "hidden": true
   },
   "outputs": [],
   "source": [
    "plotCounts(data, Q26, 'r17', labels_q26)"
   ]
  },
  {
   "cell_type": "markdown",
   "metadata": {
    "heading_collapsed": true,
    "hidden": true
   },
   "source": [
    "### R18 - attracted to luxury\n",
    "\n",
    "I find I’m often attracted to luxury brands"
   ]
  },
  {
   "cell_type": "code",
   "execution_count": null,
   "metadata": {
    "ExecuteTime": {
     "end_time": "2019-03-28T17:25:11.799752Z",
     "start_time": "2019-03-28T17:25:11.580589Z"
    },
    "hidden": true
   },
   "outputs": [],
   "source": [
    "plotCounts(data, Q26, 'r18', labels_q26)"
   ]
  },
  {
   "cell_type": "markdown",
   "metadata": {
    "heading_collapsed": true
   },
   "source": [
    "## Q48 - Education\n",
    "\n",
    "Which of the following best describes the highest level of education you have attained?"
   ]
  },
  {
   "cell_type": "markdown",
   "metadata": {
    "hidden": true
   },
   "source": [
    "| Answer Code | Meaning |\n",
    "|---|---|\n",
    "| 1 | Some high school |\n",
    "| 2 | High school graduate |\n",
    "| 3 | Some college |\n",
    "| 4 | College graduate |\n",
    "| 5 | Some post-graduate studies |\n",
    "| 6 | Post graduate degree |\n",
    "\n",
    "non-behavioral"
   ]
  },
  {
   "cell_type": "code",
   "execution_count": null,
   "metadata": {
    "ExecuteTime": {
     "end_time": "2019-03-28T17:25:12.428645Z",
     "start_time": "2019-03-28T17:25:12.425117Z"
    },
    "hidden": true
   },
   "outputs": [],
   "source": [
    "data.rename(columns = {'q48' : 'q48_Education'},\n",
    "            inplace = True)"
   ]
  },
  {
   "cell_type": "code",
   "execution_count": null,
   "metadata": {
    "ExecuteTime": {
     "end_time": "2019-03-28T17:25:12.439097Z",
     "start_time": "2019-03-28T17:25:12.433506Z"
    },
    "code_folding": [],
    "hidden": true
   },
   "outputs": [],
   "source": [
    "labels_q48 = ['Some high school',\n",
    "              'High school graduate',\n",
    "              'Some college',\n",
    "              'College graduate',\n",
    "              'Some post-graduate studies',\n",
    "              'Post graduate degree']\n",
    "# ensure only the used labels remain\n",
    "ind = list(data['q48_Education'].value_counts().index -1)\n",
    "ind.sort()\n",
    "labels_q48 = [labels_q48[i] for i in ind]"
   ]
  },
  {
   "cell_type": "code",
   "execution_count": null,
   "metadata": {
    "ExecuteTime": {
     "end_time": "2019-03-28T17:25:12.738392Z",
     "start_time": "2019-03-28T17:25:12.441503Z"
    },
    "hidden": true
   },
   "outputs": [],
   "source": [
    "fig, ax = plt.subplots(figsize = (15, 6))\n",
    "sns.countplot(x = 'q48_Education',\n",
    "              data = data);\n",
    "ax.set_xticklabels(labels_q48,\n",
    "                   rotation = 45)\n",
    "plt.title('Education level Count')\n",
    "plt.xlabel(\"Education level\")\n",
    "plt.savefig('Education level Count.png')\n",
    "plt.show()"
   ]
  },
  {
   "cell_type": "markdown",
   "metadata": {
    "heading_collapsed": true
   },
   "source": [
    "## Q49 - Marital Status\n",
    "\n",
    "Which of the following best describe your marital status?"
   ]
  },
  {
   "cell_type": "markdown",
   "metadata": {
    "hidden": true
   },
   "source": [
    "| Answer Code | Meaning |\n",
    "|---|---|\n",
    "| 1 | Married |\n",
    "| 2 | Single |\n",
    "| 3 | Single with a partner |\n",
    "| 4 | Separated/Widowed/Divorced |\n",
    "\n",
    "non-behavioral"
   ]
  },
  {
   "cell_type": "code",
   "execution_count": null,
   "metadata": {
    "ExecuteTime": {
     "end_time": "2019-03-28T17:25:13.208394Z",
     "start_time": "2019-03-28T17:25:13.204975Z"
    },
    "hidden": true
   },
   "outputs": [],
   "source": [
    "data.rename(columns = {'q49' : 'q49_Relationship'},\n",
    "            inplace = True)"
   ]
  },
  {
   "cell_type": "code",
   "execution_count": null,
   "metadata": {
    "ExecuteTime": {
     "end_time": "2019-03-28T17:25:13.219257Z",
     "start_time": "2019-03-28T17:25:13.213844Z"
    },
    "code_folding": [
     0
    ],
    "hidden": true
   },
   "outputs": [],
   "source": [
    "labels_q49 = ['Married',\n",
    "              'Single',\n",
    "              'Single with a partner',\n",
    "              'Separated/Widowed/Divorced']\n",
    "# ensure only the used labels remain\n",
    "ind = list(data['q49_Relationship'].value_counts().index -1)\n",
    "ind.sort()\n",
    "labels_q49 = [labels_q49[i] for i in ind]"
   ]
  },
  {
   "cell_type": "code",
   "execution_count": null,
   "metadata": {
    "ExecuteTime": {
     "end_time": "2019-03-28T17:25:13.444626Z",
     "start_time": "2019-03-28T17:25:13.221566Z"
    },
    "hidden": true
   },
   "outputs": [],
   "source": [
    "fig, ax = plt.subplots(figsize = (15, 6))\n",
    "sns.countplot(x = 'q49_Relationship',\n",
    "              data = data);\n",
    "ax.set_xticklabels(labels_q49,\n",
    "                   rotation = 45)\n",
    "plt.title('Education level Count')\n",
    "plt.xlabel(\"Education level\")\n",
    "plt.savefig('Education level Count.png')\n",
    "plt.show()"
   ]
  },
  {
   "cell_type": "markdown",
   "metadata": {
    "heading_collapsed": true
   },
   "source": [
    "## Q50 - Children\n",
    "\n",
    "Do you currently have any children in the following age groups?"
   ]
  },
  {
   "cell_type": "markdown",
   "metadata": {
    "ExecuteTime": {
     "end_time": "2019-03-22T21:13:38.823557Z",
     "start_time": "2019-03-22T21:13:38.816678Z"
    },
    "hidden": true
   },
   "source": [
    "| Answer Column | Children |\n",
    "|---|---|\n",
    "| q50r1 | No children |\n",
    "| q50r2 | Yes, children under 6 years old |\n",
    "| q50r3 | Yes, children 6-12 years old |\n",
    "| q50r4 | Yes, children 13-17 years old |\n",
    "| q50r5 | Yes, children 18 or older |\n",
    "\n",
    "non-behavioral"
   ]
  },
  {
   "cell_type": "code",
   "execution_count": null,
   "metadata": {
    "ExecuteTime": {
     "end_time": "2019-03-28T17:25:13.950864Z",
     "start_time": "2019-03-28T17:25:13.947125Z"
    },
    "hidden": true
   },
   "outputs": [],
   "source": [
    "data.rename(columns = {'q50r1' : 'q50r1_Child_none',\n",
    "                       'q50r2' : 'q50r2_Child_0-6y',\n",
    "                       'q50r3' : 'q50r3_Child_6-12y',\n",
    "                       'q50r4' : 'q50r4_Child_13-17y',\n",
    "                       'q50r5' : 'q50r5_Child_18-y'},\n",
    "            inplace = True)"
   ]
  },
  {
   "cell_type": "code",
   "execution_count": null,
   "metadata": {
    "ExecuteTime": {
     "end_time": "2019-03-28T17:25:13.961267Z",
     "start_time": "2019-03-28T17:25:13.957261Z"
    },
    "hidden": true
   },
   "outputs": [],
   "source": [
    "Q50_counts = {'No children'      : sum(data['q50r1_Child_none']),\n",
    "              'children under 6' : sum(data['q50r2_Child_0-6y']),\n",
    "              'children 6-12'    : sum(data['q50r3_Child_6-12y']),\n",
    "              'children 13-17'   : sum(data['q50r4_Child_13-17y']),\n",
    "              'children >= 18'   : sum(data['q50r5_Child_18-y'])}"
   ]
  },
  {
   "cell_type": "code",
   "execution_count": null,
   "metadata": {
    "ExecuteTime": {
     "end_time": "2019-03-28T17:25:14.232691Z",
     "start_time": "2019-03-28T17:25:13.965193Z"
    },
    "hidden": true
   },
   "outputs": [],
   "source": [
    "fig, ax = plt.subplots(figsize = (15, 6))\n",
    "sns.barplot(x = list(Q50_counts.keys()),\n",
    "            y = list(Q50_counts.values()));\n",
    "ax.set_xticklabels(ax.get_xticklabels(),\n",
    "                   rotation = 90)\n",
    "plt.xlabel(\"Children of age group\")\n",
    "plt.title('Children')\n",
    "plt.ylabel('Count')\n",
    "plt.savefig('Children of age group Counts.png')\n",
    "plt.show()"
   ]
  },
  {
   "cell_type": "markdown",
   "metadata": {
    "heading_collapsed": true
   },
   "source": [
    "## Q54 - Race\n",
    "\n",
    "Which of the following best describes your race?"
   ]
  },
  {
   "cell_type": "markdown",
   "metadata": {
    "hidden": true
   },
   "source": [
    "| Answer Code | Meaning |\n",
    "|---|---|\n",
    "| 1 | White or Caucasian |\n",
    "| 2 | Black or African American |\n",
    "| 3 | Asian |\n",
    "| 4 | Native Hawaiian or Other Pacific Islander |\n",
    "| 5 | American Indian or Alaska Native |\n",
    "| 6 | Other race |\n",
    "\n",
    "non-behavioral"
   ]
  },
  {
   "cell_type": "code",
   "execution_count": null,
   "metadata": {
    "ExecuteTime": {
     "end_time": "2019-03-28T17:25:14.709707Z",
     "start_time": "2019-03-28T17:25:14.706275Z"
    },
    "hidden": true
   },
   "outputs": [],
   "source": [
    "data.rename(columns = {'q54' : 'q54_Race'},\n",
    "            inplace = True)"
   ]
  },
  {
   "cell_type": "code",
   "execution_count": null,
   "metadata": {
    "ExecuteTime": {
     "end_time": "2019-03-28T17:25:14.717806Z",
     "start_time": "2019-03-28T17:25:14.712199Z"
    },
    "code_folding": [],
    "hidden": true
   },
   "outputs": [],
   "source": [
    "labels_q54 = ['White or Caucasian',\n",
    "              'Black or African American',\n",
    "              'Asian',\n",
    "              'Native Hawaiian or Other Pacific Islander',\n",
    "              'American Indian or Alaska Native',\n",
    "              'Other race']\n",
    "# ensure only the used labels remain\n",
    "ind = list(data['q54_Race'].value_counts().index -1)\n",
    "ind.sort()\n",
    "labels_q54 = [labels_q54[i] for i in ind]"
   ]
  },
  {
   "cell_type": "code",
   "execution_count": null,
   "metadata": {
    "ExecuteTime": {
     "end_time": "2019-03-28T17:25:14.941698Z",
     "start_time": "2019-03-28T17:25:14.721595Z"
    },
    "hidden": true
   },
   "outputs": [],
   "source": [
    "fig, ax = plt.subplots(figsize = (15, 6))\n",
    "sns.countplot(x = 'q54_Race',\n",
    "              data = data);\n",
    "ax.set_xticklabels(labels_q54,\n",
    "                   rotation = 90)\n",
    "plt.title('Race Counts')\n",
    "plt.xlabel(\"Race\")\n",
    "plt.savefig('Race Counts.png')\n",
    "plt.show()"
   ]
  },
  {
   "cell_type": "markdown",
   "metadata": {
    "ExecuteTime": {
     "end_time": "2019-03-22T21:23:05.790835Z",
     "start_time": "2019-03-22T21:23:05.783368Z"
    },
    "heading_collapsed": true
   },
   "source": [
    "## Q55 - Hispanic or Latino \n",
    "\n",
    "Do you consider yourself to be of Hispanic or Latino ethnicity?"
   ]
  },
  {
   "cell_type": "markdown",
   "metadata": {
    "ExecuteTime": {
     "end_time": "2019-03-22T21:28:04.333349Z",
     "start_time": "2019-03-22T21:28:04.327165Z"
    },
    "hidden": true
   },
   "source": [
    "| Answer Code | Meaning |\n",
    "|---|---|\n",
    "| 1 | Yes |\n",
    "| 2 | No |\n",
    "\n",
    "non-behavioral"
   ]
  },
  {
   "cell_type": "code",
   "execution_count": null,
   "metadata": {
    "ExecuteTime": {
     "end_time": "2019-03-28T17:25:15.461773Z",
     "start_time": "2019-03-28T17:25:15.457718Z"
    },
    "hidden": true
   },
   "outputs": [],
   "source": [
    "data.rename(columns = {'q55' : 'q55_Latino'},\n",
    "            inplace = True)"
   ]
  },
  {
   "cell_type": "code",
   "execution_count": null,
   "metadata": {
    "ExecuteTime": {
     "end_time": "2019-03-28T17:25:15.476081Z",
     "start_time": "2019-03-28T17:25:15.468284Z"
    },
    "hidden": true
   },
   "outputs": [],
   "source": [
    "labels_q55 = ['Yes',\n",
    "              'No']\n",
    "# ensure only the used labels remain\n",
    "ind = list(data['q55_Latino'].value_counts().index -1)\n",
    "ind.sort()\n",
    "labels_q55 = [labels_q55[i] for i in ind]"
   ]
  },
  {
   "cell_type": "code",
   "execution_count": null,
   "metadata": {
    "ExecuteTime": {
     "end_time": "2019-03-28T17:25:15.659723Z",
     "start_time": "2019-03-28T17:25:15.479122Z"
    },
    "hidden": true
   },
   "outputs": [],
   "source": [
    "fig, ax = plt.subplots(figsize = (15, 6))\n",
    "sns.countplot(x = 'q55_Latino',\n",
    "              data = data);\n",
    "ax.set_xticklabels(labels_q55,\n",
    "                   rotation = 90)\n",
    "plt.title('Race Counts')\n",
    "plt.xlabel(\"Race\")\n",
    "plt.savefig('Race Counts.png')\n",
    "plt.show()"
   ]
  },
  {
   "cell_type": "markdown",
   "metadata": {
    "ExecuteTime": {
     "end_time": "2019-03-22T21:38:53.982888Z",
     "start_time": "2019-03-22T21:38:53.975206Z"
    },
    "heading_collapsed": true
   },
   "source": [
    "## Q56 - household income\n",
    "\n",
    "Which of the following best describes your household annual income before taxes?"
   ]
  },
  {
   "cell_type": "markdown",
   "metadata": {
    "ExecuteTime": {
     "end_time": "2019-03-22T21:39:47.471044Z",
     "start_time": "2019-03-22T21:39:47.467262Z"
    },
    "hidden": true
   },
   "source": [
    "All in $\n",
    "\n",
    "| Answer Code | Meaning |\n",
    "|--- |---|\n",
    "| 1  | < 10,000 |\n",
    "| 2  | 10,000-14,999 |\n",
    "| 3  | 15,000-19,999 |\n",
    "| 4  | 20,000-29,999 |\n",
    "| 5  | 30,000-39,999 |\n",
    "| 6  | 40,000-49,999 |\n",
    "| 7  | 50,000-59,999 |\n",
    "| 8  | 60,000-69,999 |\n",
    "| 9  | 70,000-79,999 |\n",
    "| 10 | 80,000-89,999 |\n",
    "| 11 | 90,000-99,999 |\n",
    "| 12 | 100,000-124,999 |\n",
    "| 13 | 125,000-149,999 |\n",
    "| 14 | > 150,000 |\n",
    "\n",
    "might be non-behavioral or behavioral"
   ]
  },
  {
   "cell_type": "code",
   "execution_count": null,
   "metadata": {
    "ExecuteTime": {
     "end_time": "2019-03-28T17:25:16.315046Z",
     "start_time": "2019-03-28T17:25:16.311397Z"
    },
    "hidden": true
   },
   "outputs": [],
   "source": [
    "data.rename(columns = {'q56' : 'q56_Income'},\n",
    "            inplace = True)"
   ]
  },
  {
   "cell_type": "code",
   "execution_count": null,
   "metadata": {
    "ExecuteTime": {
     "end_time": "2019-03-28T17:25:16.326422Z",
     "start_time": "2019-03-28T17:25:16.320584Z"
    },
    "hidden": true
   },
   "outputs": [],
   "source": [
    "labels_q56 = ['< $10,000',\n",
    "              '$10,000-$14,999',\n",
    "              '$15,000-$19,999',\n",
    "              '$20,000-$29,999',\n",
    "              '$30,000-$39,999',\n",
    "              '$40,000-$49,999',\n",
    "              '$50,000-$59,999',\n",
    "              '$60,000-$69,999',\n",
    "              '$70,000-$79,999',\n",
    "              '$80,000-$89,999',\n",
    "              '$90,000-$99,999',\n",
    "              '$100,000-$124,999',\n",
    "              '$125,000-$149,999',\n",
    "              '> $150,000']\n",
    "# ensure only the used labels remain\n",
    "ind = list(data['q56_Income'].value_counts().index -1)\n",
    "ind.sort()\n",
    "labels_q56 = [labels_q56[i] for i in ind]"
   ]
  },
  {
   "cell_type": "code",
   "execution_count": null,
   "metadata": {
    "ExecuteTime": {
     "end_time": "2019-03-28T17:25:16.779022Z",
     "start_time": "2019-03-28T17:25:16.328809Z"
    },
    "hidden": true
   },
   "outputs": [],
   "source": [
    "fig, ax = plt.subplots(figsize = (15, 6))\n",
    "sns.countplot(x = 'q56_Income',\n",
    "              data = data);\n",
    "ax.set_xticklabels(labels_q56,\n",
    "                   rotation = 90)\n",
    "plt.title('Race Counts')\n",
    "plt.xlabel(\"Race\")\n",
    "plt.savefig('Race Counts.png')\n",
    "plt.show()"
   ]
  },
  {
   "cell_type": "markdown",
   "metadata": {
    "ExecuteTime": {
     "end_time": "2019-03-22T21:41:52.939566Z",
     "start_time": "2019-03-22T21:41:52.937144Z"
    },
    "heading_collapsed": true
   },
   "source": [
    "## Q57 - Gender\n",
    "\n",
    "Please indicate your gender"
   ]
  },
  {
   "cell_type": "markdown",
   "metadata": {
    "ExecuteTime": {
     "end_time": "2019-03-22T21:41:55.425111Z",
     "start_time": "2019-03-22T21:41:55.421120Z"
    },
    "hidden": true
   },
   "source": [
    "| Answer Code | Meaning |\n",
    "|--- |---|\n",
    "| 1  | Male |\n",
    "| 2  | Female |\n",
    "\n",
    "non-behavioral"
   ]
  },
  {
   "cell_type": "code",
   "execution_count": null,
   "metadata": {
    "ExecuteTime": {
     "end_time": "2019-03-28T17:25:17.196026Z",
     "start_time": "2019-03-28T17:25:17.192642Z"
    },
    "hidden": true
   },
   "outputs": [],
   "source": [
    "data.rename(columns = {'q57' : 'q57_Gender'},\n",
    "            inplace = True)"
   ]
  },
  {
   "cell_type": "code",
   "execution_count": null,
   "metadata": {
    "ExecuteTime": {
     "end_time": "2019-03-28T17:25:17.208520Z",
     "start_time": "2019-03-28T17:25:17.199449Z"
    },
    "code_folding": [],
    "hidden": true
   },
   "outputs": [],
   "source": [
    "labels_q57 = ['Male',\n",
    "              'Female']\n",
    "# ensure only the used labels remain\n",
    "ind = list(data['q57_Gender'].value_counts().index -1)\n",
    "ind.sort()\n",
    "labels_q57 = [labels_q57[i] for i in ind]"
   ]
  },
  {
   "cell_type": "code",
   "execution_count": null,
   "metadata": {
    "ExecuteTime": {
     "end_time": "2019-03-28T17:25:17.446340Z",
     "start_time": "2019-03-28T17:25:17.211481Z"
    },
    "hidden": true
   },
   "outputs": [],
   "source": [
    "fig, ax = plt.subplots(figsize = (15, 6))\n",
    "sns.countplot(x = 'q57_Gender',\n",
    "              data = data);\n",
    "ax.set_xticklabels(labels_q57,\n",
    "                   rotation = 90)\n",
    "plt.title('Race Counts')\n",
    "plt.xlabel(\"Race\")\n",
    "plt.savefig('Race Counts.png')\n",
    "plt.show()"
   ]
  },
  {
   "cell_type": "markdown",
   "metadata": {},
   "source": [
    "# Grouping"
   ]
  },
  {
   "cell_type": "markdown",
   "metadata": {},
   "source": [
    "Grouping the data into behavioral and non-behavioral parts."
   ]
  },
  {
   "cell_type": "code",
   "execution_count": null,
   "metadata": {
    "ExecuteTime": {
     "end_time": "2019-03-28T17:25:18.227722Z",
     "start_time": "2019-03-28T17:25:18.223678Z"
    },
    "init_cell": true
   },
   "outputs": [],
   "source": [
    "non_behavioral_colnames = ['q1_Age',             #Age\n",
    "                           'q48_Education',      #Education\n",
    "                           'q49_Relationship',   #Maritial Status\n",
    "                           'q50r1_Child_none',   #Children\n",
    "                           'q50r2_Child_0-6y',\n",
    "                           'q50r3_Child_6-12y',\n",
    "                           'q50r4_Child_13-17y',\n",
    "                           'q50r5_Child_18-y',\n",
    "                           'q54_Race',           #Race\n",
    "                           'q55_Latino',         #Hispanic\n",
    "                           'q56_Income',         #Income\n",
    "                           'q57_Gender',         #Gender\n",
    "                           'caseID']             #don't need the ID"
   ]
  },
  {
   "cell_type": "code",
   "execution_count": null,
   "metadata": {
    "ExecuteTime": {
     "end_time": "2019-03-28T17:25:18.238958Z",
     "start_time": "2019-03-28T17:25:18.233252Z"
    },
    "init_cell": true
   },
   "outputs": [],
   "source": [
    "data_nb = data.drop(non_behavioral_colnames, \n",
    "                    axis = 1)\n",
    "data_b = data[non_behavioral_colnames]"
   ]
  },
  {
   "cell_type": "markdown",
   "metadata": {},
   "source": [
    "# Scaling"
   ]
  },
  {
   "cell_type": "code",
   "execution_count": null,
   "metadata": {
    "ExecuteTime": {
     "end_time": "2019-03-28T17:25:18.612005Z",
     "start_time": "2019-03-28T17:25:18.605649Z"
    },
    "init_cell": true
   },
   "outputs": [],
   "source": [
    "scaler = StandardScaler().fit(data)\n",
    "data_scaled = scaler.transform(data)"
   ]
  },
  {
   "cell_type": "code",
   "execution_count": null,
   "metadata": {
    "ExecuteTime": {
     "end_time": "2019-03-28T17:25:18.624489Z",
     "start_time": "2019-03-28T17:25:18.614076Z"
    },
    "init_cell": true
   },
   "outputs": [],
   "source": [
    "scaler_nb = StandardScaler().fit(data_nb)\n",
    "data_nb_scaled = scaler_nb.transform(data_nb)"
   ]
  },
  {
   "cell_type": "markdown",
   "metadata": {},
   "source": [
    "\n",
    "# PCA"
   ]
  },
  {
   "cell_type": "code",
   "execution_count": null,
   "metadata": {
    "ExecuteTime": {
     "end_time": "2019-03-28T17:25:19.012027Z",
     "start_time": "2019-03-28T17:25:19.005630Z"
    }
   },
   "outputs": [],
   "source": [
    "pca_data_nb = PCA(n_components = None,\n",
    "                  random_state = 508).fit(data_nb_scaled)\n",
    "data_nb_pca = pca_data_nb.transform(data_nb_scaled)"
   ]
  },
  {
   "cell_type": "code",
   "execution_count": null,
   "metadata": {
    "ExecuteTime": {
     "end_time": "2019-03-28T17:25:20.048616Z",
     "start_time": "2019-03-28T17:25:19.015665Z"
    }
   },
   "outputs": [],
   "source": [
    "features = range(pca_data_nb.n_components_)\n",
    "\n",
    "fig, ax = plt.subplots(figsize=(15, 8))\n",
    "plt.plot(features,\n",
    "         pca_data_nb.explained_variance_ratio_,\n",
    "         linewidth = 2,\n",
    "         marker = 'o',\n",
    "         markersize = 8,\n",
    "         markeredgecolor = 'black',\n",
    "         markerfacecolor = 'grey')\n",
    "\n",
    "plt.title('PCA Scree Plot')\n",
    "plt.xlabel('PCA feature')\n",
    "plt.ylabel('Explained Variance')\n",
    "plt.xticks(features)\n",
    "plt.savefig('PCA Scree Plot.png')\n",
    "plt.show()"
   ]
  },
  {
   "cell_type": "code",
   "execution_count": null,
   "metadata": {
    "ExecuteTime": {
     "end_time": "2019-03-28T17:25:20.056559Z",
     "start_time": "2019-03-28T17:25:20.050565Z"
    }
   },
   "outputs": [],
   "source": [
    "pca_5_data_nb = PCA(n_components = 5,\n",
    "                    random_state = 508).fit(data_nb_scaled)\n",
    "# factor strengths per observation\n",
    "data_nb_pca_5 = pd.DataFrame(pca_5_data_nb.transform(data_nb_scaled))"
   ]
  },
  {
   "cell_type": "code",
   "execution_count": null,
   "metadata": {
    "ExecuteTime": {
     "end_time": "2019-03-28T17:25:20.064098Z",
     "start_time": "2019-03-28T17:25:20.059474Z"
    }
   },
   "outputs": [],
   "source": [
    "# Rename Components\n",
    "data_nb_pca_5.columns = ['Component 1',\n",
    "                         'Component 2',\n",
    "                         'Component 3',\n",
    "                         'Component 4',\n",
    "                         'Component 5']"
   ]
  },
  {
   "cell_type": "code",
   "execution_count": null,
   "metadata": {
    "ExecuteTime": {
     "end_time": "2019-03-28T17:25:20.481323Z",
     "start_time": "2019-03-28T17:25:20.067488Z"
    }
   },
   "outputs": [],
   "source": [
    "# reattach demographics\n",
    "data_nb_pca_5_wd = pd.concat([data_b , data_nb_pca_5], axis = 1)\n",
    "data_nb_pca_5_wd.to_excel('pca_factor_strengths.xlsx')"
   ]
  },
  {
   "cell_type": "code",
   "execution_count": null,
   "metadata": {
    "ExecuteTime": {
     "end_time": "2019-03-28T17:25:20.787073Z",
     "start_time": "2019-03-28T17:25:20.482975Z"
    }
   },
   "outputs": [],
   "source": [
    "factor_loadings_df = pd.DataFrame(pd.np.transpose(pca_5_data_nb.components_))\n",
    "factor_loadings_df = factor_loadings_df.set_index(data_nb.columns)\n",
    "factor_loadings_df.to_excel('pca_factor_loadings.xlsx')"
   ]
  },
  {
   "cell_type": "code",
   "execution_count": null,
   "metadata": {
    "ExecuteTime": {
     "end_time": "2019-03-28T17:25:25.117120Z",
     "start_time": "2019-03-28T17:25:25.099767Z"
    }
   },
   "outputs": [],
   "source": [
    "# the factor is the percentage of range (min-max) of a column from the max and min values that have to be colored\n",
    "factor = 0.15\n",
    "\n",
    "vals = [data_nb.columns.tolist()]\n",
    "fl_min = []\n",
    "fl_max = []\n",
    "col_bound_min = []\n",
    "col_bound_max = []\n",
    "columnwidth = [10]\n",
    "columnorder = [0]\n",
    "values = [['<b>Feature</b>']]\n",
    "color = ['rgb(245,245,245)'] #unique color for the first column\n",
    "\n",
    "for i in range(0, factor_loadings_df.shape[1]):\n",
    "    vals.append(factor_loadings_df.round(3)[i].tolist())\n",
    "    fl_min.append(min(factor_loadings_df[i]))\n",
    "    fl_max.append(max(factor_loadings_df[i]))\n",
    "    col_bound_min.append(fl_min[i] + (abs(fl_min[i]) + abs(fl_max[i])) * factor)\n",
    "    col_bound_max.append(fl_max[i] - (abs(fl_min[i]) + abs(fl_max[i])) * factor)\n",
    "    columnwidth = columnwidth + [10]\n",
    "    columnorder.append(i + 1)\n",
    "    values.append(['<b>Component '+str(i+1)+'</b>'])\n",
    "    color.append(['rgba(0,250,0, 0.8)'    if val >= col_bound_max[i] \\\n",
    "                                             or val <= col_bound_min[i] \\\n",
    "                                          else 'rgba(255,255,255, 0.8)' \\\n",
    "                                       for val in vals[1]])"
   ]
  },
  {
   "cell_type": "code",
   "execution_count": null,
   "metadata": {
    "ExecuteTime": {
     "end_time": "2019-03-28T17:25:28.579056Z",
     "start_time": "2019-03-28T17:25:25.119419Z"
    },
    "scrolled": true
   },
   "outputs": [],
   "source": [
    "table_trace = dict(type = 'table',\n",
    "                   columnwidth = columnwidth,\n",
    "                   columnorder = columnorder,\n",
    "                   header = dict(height = 50,\n",
    "                                 values = values,\n",
    "                                 line = dict(color = 'rgb(50,50,50)'),\n",
    "                                 align = ['left']*2,\n",
    "                                 font = dict(color = ['rgb(45,45,45)']*2,\n",
    "                                             size = 14),\n",
    "                                 fill = dict( color = 'rgb(235,235,235)' )\n",
    "                                ),\n",
    "                   cells = dict(values = vals,\n",
    "                                line = dict(color='#506784'),\n",
    "                                align = ['left']*5,\n",
    "                                font = dict(color = ['rgb(40,40,40)']*2,\n",
    "                                            size = 12),\n",
    "                                format = [None, \",.3f\"],\n",
    "                                height = 30,\n",
    "                                fill = dict(color = color\n",
    "                                           )\n",
    "                               )\n",
    "                    )\n",
    "\n",
    "layout = dict(autosize = True, \n",
    "              title = 'Factor Loadings',\n",
    "              showlegend = False)\n",
    "fig = dict(data = [table_trace],\n",
    "           layout = layout)\n",
    "\n",
    "py.sign_in('MarcusRabe', 'Zlel7dQDnaajkLuCi842')\n",
    "py.iplot(fig, filename = 'colors-neg-pos')"
   ]
  },
  {
   "cell_type": "markdown",
   "metadata": {},
   "source": [
    "Factor Strengths per customer"
   ]
  },
  {
   "cell_type": "markdown",
   "metadata": {},
   "source": [
    "## Plots"
   ]
  },
  {
   "cell_type": "markdown",
   "metadata": {},
   "source": [
    "Use the following plots to digg deeper into what seems interesting.\n",
    "\n",
    "This needs to be changed on the fly as plotting everything will be too much."
   ]
  },
  {
   "cell_type": "markdown",
   "metadata": {},
   "source": [
    "fig, ax = plt.subplots(figsize = (12, 8))\n",
    "sns.boxplot(x = 'Channel',\n",
    "            y = 'Coffee_Shop_Essentials',\n",
    "            data = data_nb_pca_5_wd)\n",
    "\n",
    "#plt.ylim(-2, 4)\n",
    "plt.tight_layout()\n",
    "#plt.xlabel(\" \")\n",
    "#plt.title(' ')\n",
    "#plt.ylabel(' ')\n",
    "plt.savefig('PCA .png')\n",
    "plt.show()"
   ]
  },
  {
   "cell_type": "markdown",
   "metadata": {},
   "source": [
    "# Clustering"
   ]
  },
  {
   "cell_type": "code",
   "execution_count": null,
   "metadata": {
    "ExecuteTime": {
     "end_time": "2019-03-28T17:25:28.584178Z",
     "start_time": "2019-03-28T17:25:28.580677Z"
    }
   },
   "outputs": [],
   "source": [
    "# set the maximum number of clusters to be considered\n",
    "max_clusters = 10\n",
    "\n",
    "Nc = range(1, max_clusters)\n",
    "kmeans = [KMeans(n_clusters = i) for i in Nc]"
   ]
  },
  {
   "cell_type": "code",
   "execution_count": null,
   "metadata": {
    "ExecuteTime": {
     "end_time": "2019-03-28T17:25:29.126732Z",
     "start_time": "2019-03-28T17:25:28.587204Z"
    }
   },
   "outputs": [],
   "source": [
    "inertia = [kmeans[i].fit(data_nb).inertia_ for i in range(len(kmeans))]\n",
    "\n",
    "fig, ax = plt.subplots(figsize=(15, 8))\n",
    "plt.plot(Nc,inertia, '-o')\n",
    "plt.xlabel('Number of Clusters')\n",
    "plt.ylabel('Inertia')\n",
    "plt.title('Inertia Curve')\n",
    "plt.savefig('KMeans Elbow Curve.png')\n",
    "plt.show()"
   ]
  },
  {
   "cell_type": "code",
   "execution_count": null,
   "metadata": {
    "ExecuteTime": {
     "end_time": "2019-03-28T17:25:29.164434Z",
     "start_time": "2019-03-28T17:25:29.129227Z"
    }
   },
   "outputs": [],
   "source": [
    "kmeans_5_data_nb = KMeans(n_clusters = 5).fit(data_nb_scaled)\n",
    "data_nb_kmeans_5_pred = kmeans_5_data_nb.predict(data_nb_scaled)"
   ]
  },
  {
   "cell_type": "markdown",
   "metadata": {},
   "source": [
    "How many observations in each cluster?"
   ]
  },
  {
   "cell_type": "code",
   "execution_count": null,
   "metadata": {
    "ExecuteTime": {
     "end_time": "2019-03-28T17:25:29.175779Z",
     "start_time": "2019-03-28T17:25:29.167017Z"
    }
   },
   "outputs": [],
   "source": [
    "cluster = pd.DataFrame({'cluster' : kmeans_5_data_nb.labels_})\n",
    "\n",
    "print(cluster.iloc[:,0].value_counts())"
   ]
  },
  {
   "cell_type": "markdown",
   "metadata": {},
   "source": [
    "cluster centers"
   ]
  },
  {
   "cell_type": "code",
   "execution_count": null,
   "metadata": {
    "ExecuteTime": {
     "end_time": "2019-03-28T17:28:23.764280Z",
     "start_time": "2019-03-28T17:28:23.595210Z"
    }
   },
   "outputs": [],
   "source": [
    "centers_t = pd.DataFrame(np.transpose(kmeans_5_data_nb.cluster_centers_))\n",
    "centers = pd.DataFrame(kmeans_5_data_nb.cluster_centers_)\n",
    "centers_t = centers_t.set_index(data_nb.columns)\n",
    "centers.columns = data_nb.columns\n",
    "# reattach demo\n",
    "centers_t.to_excel('cluster centers.xlsx')"
   ]
  },
  {
   "cell_type": "code",
   "execution_count": null,
   "metadata": {
    "ExecuteTime": {
     "end_time": "2019-03-28T17:25:30.008364Z",
     "start_time": "2019-03-28T17:25:29.559530Z"
    }
   },
   "outputs": [],
   "source": [
    "X_data_nb_scaled = pd.DataFrame(data_nb_scaled)\n",
    "X_data_nb_scaled.columns = data_nb.columns\n",
    "\n",
    "cluster_members_df = pd.concat([cluster,\n",
    "                                data_b,\n",
    "                                X_data_nb_scaled],\n",
    "                               axis = 1)\n",
    "cluster_members_df.to_excel('cluster members.xlsx')"
   ]
  },
  {
   "cell_type": "code",
   "execution_count": null,
   "metadata": {
    "ExecuteTime": {
     "end_time": "2019-03-28T17:25:30.027817Z",
     "start_time": "2019-03-28T17:25:30.010139Z"
    }
   },
   "outputs": [],
   "source": [
    "# the factor is the percentage of range (min-max) of a column from the max and min values that have to be colored\n",
    "factor = 0.15\n",
    "\n",
    "vals = [data_nb.columns.tolist()]\n",
    "fl_min = []\n",
    "fl_max = []\n",
    "col_bound_min = []\n",
    "col_bound_max = []\n",
    "columnwidth = [15]\n",
    "columnorder = [0]\n",
    "values = [['<b>Feature</b>']]\n",
    "color = ['rgb(245,245,245)'] #unique color for the first column\n",
    "\n",
    "for i in range(0, centers_t.shape[1]):\n",
    "    vals.append(centers_t.round(3)[i].tolist())\n",
    "    fl_min.append(min(centers_t[i]))\n",
    "    fl_max.append(max(centers_t[i]))\n",
    "    col_bound_min.append(fl_min[i] + (abs(fl_min[i]) + abs(fl_max[i])) * factor)\n",
    "    col_bound_max.append(fl_max[i] - (abs(fl_min[i]) + abs(fl_max[i])) * factor)\n",
    "    columnwidth = columnwidth + [5]\n",
    "    columnorder.append(i + 1)\n",
    "    values.append(['<b>Cluster '+str(i+1)+'</b>'])\n",
    "    color.append(['rgba(0,250,0, 0.8)'     if val >= col_bound_max[i] \\\n",
    "                                              or val <= col_bound_min[i] \\\n",
    "                                           else 'rgba(255,255,255, 0.8)' \\\n",
    "                                       for val in vals[1]])"
   ]
  },
  {
   "cell_type": "code",
   "execution_count": null,
   "metadata": {
    "ExecuteTime": {
     "end_time": "2019-03-28T17:25:32.479991Z",
     "start_time": "2019-03-28T17:25:30.030370Z"
    },
    "scrolled": true
   },
   "outputs": [],
   "source": [
    "table_trace = dict(type = 'table',\n",
    "                   columnwidth = columnwidth,\n",
    "                   columnorder = columnorder,\n",
    "                   header = dict(height = 50,\n",
    "                                 values = values,\n",
    "                                 line = dict(color = 'rgb(50,50,50)'),\n",
    "                                 align = ['left']*2,\n",
    "                                 font = dict(color = ['rgb(45,45,45)']*2,\n",
    "                                             size=14),\n",
    "                                 fill = dict( color = 'rgb(235,235,235)' )\n",
    "                                ),\n",
    "                   cells = dict(values = vals,\n",
    "                                line = dict(color='#506784'),\n",
    "                                align = ['left']*5,\n",
    "                                font = dict(color = ['rgb(40,40,40)']*2,\n",
    "                                            size = 12),\n",
    "                                format = [None, \",.3f\"],\n",
    "                                height = 30,\n",
    "                                fill = dict(color = color\n",
    "                                           )\n",
    "                               )\n",
    "                    )\n",
    "\n",
    "layout = dict(autosize = True, \n",
    "              title = 'Cluster Centers',\n",
    "              showlegend = False)\n",
    "fig = dict(data = [table_trace],\n",
    "           layout = layout)\n",
    "\n",
    "py.sign_in('MarcusRabe', 'Zlel7dQDnaajkLuCi842')\n",
    "py.iplot(fig, filename = 'colors-neg-pos')"
   ]
  },
  {
   "cell_type": "markdown",
   "metadata": {},
   "source": [
    "## Plots"
   ]
  },
  {
   "cell_type": "markdown",
   "metadata": {},
   "source": [
    "Use the following for more detailed analysis. change the x and y accordingly\n",
    "switch the following cell to code in order to run"
   ]
  },
  {
   "cell_type": "markdown",
   "metadata": {},
   "source": [
    "fig, ax = plt.subplots(figsize = (8, 4))\n",
    "sns.boxplot(x = 'q1_age',\n",
    "            y = 'cluster1',\n",
    "            hue = 'cluster',\n",
    "            data = cluster_members_df)\n",
    "\n",
    "#plt.ylim(-2, 4)\n",
    "plt.tight_layout()\n",
    "#plt.xlabel(\" \")\n",
    "#plt.title(' ')\n",
    "#plt.ylabel(' ')\n",
    "#plt.savefig('PCA .png')\n",
    "plt.show()"
   ]
  },
  {
   "cell_type": "markdown",
   "metadata": {},
   "source": [
    "# PCA --> Clustering"
   ]
  },
  {
   "cell_type": "markdown",
   "metadata": {},
   "source": [
    "Don't forget to scale again"
   ]
  },
  {
   "cell_type": "code",
   "execution_count": null,
   "metadata": {
    "ExecuteTime": {
     "end_time": "2019-03-28T17:25:32.487322Z",
     "start_time": "2019-03-28T17:25:32.481655Z"
    }
   },
   "outputs": [],
   "source": [
    "data_nb_pca_5_scaler = StandardScaler().fit(data_nb_pca_5)\n",
    "data_nb_pca_5_sc = pd.DataFrame(data_nb_pca_5_scaler.transform(data_nb_pca_5))\n",
    "data_nb_pca_5_sc.columns = data_nb_pca_5.columns"
   ]
  },
  {
   "cell_type": "code",
   "execution_count": null,
   "metadata": {
    "ExecuteTime": {
     "end_time": "2019-03-28T17:25:32.494860Z",
     "start_time": "2019-03-28T17:25:32.489850Z"
    }
   },
   "outputs": [],
   "source": [
    "# set the maximum number of clusters to be considered\n",
    "max_clusters = 15\n",
    "\n",
    "Nc = range(1, max_clusters)\n",
    "kmeans = [KMeans(n_clusters = i) for i in Nc]"
   ]
  },
  {
   "cell_type": "code",
   "execution_count": null,
   "metadata": {
    "ExecuteTime": {
     "end_time": "2019-03-28T17:25:33.250823Z",
     "start_time": "2019-03-28T17:25:32.498789Z"
    }
   },
   "outputs": [],
   "source": [
    "inertia = [kmeans[i].fit(data_nb_pca_5_sc).inertia_ for i in range(len(kmeans))]\n",
    "\n",
    "fig, ax = plt.subplots(figsize=(15, 8))\n",
    "plt.plot(Nc,inertia, '-o')\n",
    "plt.xlabel('Number of Clusters')\n",
    "plt.ylabel('Inertia')\n",
    "plt.title('Inertia Curve')\n",
    "plt.savefig('PCA_KMeans Inertia Curve.png')\n",
    "plt.show()"
   ]
  },
  {
   "cell_type": "code",
   "execution_count": null,
   "metadata": {
    "ExecuteTime": {
     "end_time": "2019-03-28T17:25:33.294843Z",
     "start_time": "2019-03-28T17:25:33.253688Z"
    }
   },
   "outputs": [],
   "source": [
    "pca_kmeans_5_data_nb = KMeans(n_clusters = 5).fit(data_nb_pca_5_sc)\n",
    "data_nb_pca_kmeans_5_pred = pca_kmeans_5_data_nb.predict(data_nb_pca_5_sc)"
   ]
  },
  {
   "cell_type": "code",
   "execution_count": null,
   "metadata": {
    "ExecuteTime": {
     "end_time": "2019-03-28T17:25:33.303319Z",
     "start_time": "2019-03-28T17:25:33.296516Z"
    }
   },
   "outputs": [],
   "source": [
    "cluster = pd.DataFrame({'cluster' : pca_kmeans_5_data_nb.labels_})\n",
    "print(cluster.iloc[:,0].value_counts())"
   ]
  },
  {
   "cell_type": "code",
   "execution_count": null,
   "metadata": {
    "ExecuteTime": {
     "end_time": "2019-03-28T17:29:39.234960Z",
     "start_time": "2019-03-28T17:29:38.853153Z"
    }
   },
   "outputs": [],
   "source": [
    "#centers_PCA_CL = pd.DataFrame(np.transpose(pca_kmeans_5_data_nb.cluster_centers_))\n",
    "centers_PCA_CL = pd.DataFrame(pca_kmeans_5_data_nb.cluster_centers_)\n",
    "\n",
    "#centers = centers.set_index(data_nb.columns)\n",
    "centers_PCA_CL.columns = data_nb_pca_5.columns\n",
    "\n",
    "centers_PCA_CL.to_excel('PCA_cluster centers.xlsx')"
   ]
  },
  {
   "cell_type": "code",
   "execution_count": null,
   "metadata": {
    "ExecuteTime": {
     "end_time": "2019-03-28T17:25:34.133384Z",
     "start_time": "2019-03-28T17:25:33.711026Z"
    }
   },
   "outputs": [],
   "source": [
    "clst_pca_df = pd.concat([cluster,\n",
    "                         data_b,\n",
    "                         data_nb_pca_5_sc],\n",
    "                        axis = 1)\n",
    "\n",
    "cluster_members_df.to_excel('PCA_cluster members.xlsx')"
   ]
  }
 ],
 "metadata": {
  "celltoolbar": "Initialization Cell",
  "kernelspec": {
   "display_name": "Python 3",
   "language": "python",
   "name": "python3"
  },
  "language_info": {
   "codemirror_mode": {
    "name": "ipython",
    "version": 3
   },
   "file_extension": ".py",
   "mimetype": "text/x-python",
   "name": "python",
   "nbconvert_exporter": "python",
   "pygments_lexer": "ipython3",
   "version": "3.7.6"
  },
  "toc": {
   "base_numbering": 1,
   "nav_menu": {},
   "number_sections": true,
   "sideBar": true,
   "skip_h1_title": false,
   "title_cell": "Table of Contents",
   "title_sidebar": "Contents",
   "toc_cell": false,
   "toc_position": {
    "height": "calc(100% - 180px)",
    "left": "10px",
    "top": "150px",
    "width": "165px"
   },
   "toc_section_display": true,
   "toc_window_display": true
  },
  "varInspector": {
   "cols": {
    "lenName": 16,
    "lenType": 16,
    "lenVar": 40
   },
   "kernels_config": {
    "python": {
     "delete_cmd_postfix": "",
     "delete_cmd_prefix": "del ",
     "library": "var_list.py",
     "varRefreshCmd": "print(var_dic_list())"
    },
    "r": {
     "delete_cmd_postfix": ") ",
     "delete_cmd_prefix": "rm(",
     "library": "var_list.r",
     "varRefreshCmd": "cat(var_dic_list()) "
    }
   },
   "position": {
    "height": "425px",
    "left": "1246px",
    "right": "20px",
    "top": "117px",
    "width": "340px"
   },
   "types_to_exclude": [
    "module",
    "function",
    "builtin_function_or_method",
    "instance",
    "_Feature"
   ],
   "window_display": false
  }
 },
 "nbformat": 4,
 "nbformat_minor": 2
}
